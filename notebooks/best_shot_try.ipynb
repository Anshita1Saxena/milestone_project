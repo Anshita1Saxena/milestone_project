{
  "nbformat": 4,
  "nbformat_minor": 0,
  "metadata": {
    "colab": {
      "provenance": []
    },
    "kernelspec": {
      "name": "python3",
      "display_name": "Python 3"
    },
    "language_info": {
      "name": "python"
    },
    "accelerator": "GPU",
    "gpuClass": "standard"
  },
  "cells": [
    {
      "cell_type": "code",
      "execution_count": null,
      "metadata": {
        "id": "_O-lvyoLZaf0"
      },
      "outputs": [],
      "source": [
        "# Import data processing libraries\n",
        "import pandas as pd\n",
        "import numpy as np\n",
        "\n",
        "# One hot encoding and train-test split\n",
        "from sklearn.preprocessing import OneHotEncoder\n",
        "from sklearn.compose import make_column_transformer\n",
        "from sklearn.model_selection import train_test_split\n",
        "\n",
        "# Standardization Library\n",
        "from sklearn.preprocessing import StandardScaler\n",
        "\n",
        "# Search Space\n",
        "from sklearn.model_selection import RandomizedSearchCV\n",
        "\n",
        "# Plotting\n",
        "import matplotlib.pyplot as plt\n",
        "from sklearn.metrics import confusion_matrix\n",
        "from sklearn.metrics import classification_report\n",
        "import seaborn as sns\n",
        "from matplotlib import rcParams\n",
        "from sklearn.calibration import calibration_curve, CalibrationDisplay\n",
        "from sklearn.metrics import roc_curve, auc\n",
        "from sklearn.metrics import roc_auc_score\n",
        "from sklearn.metrics import accuracy_score\n",
        "\n",
        "# Import Light GBM\n",
        "from lightgbm import LGBMClassifier\n",
        "\n",
        "# Import Feature Selection Library\n",
        "from sklearn.linear_model import LogisticRegression\n",
        "from sklearn.ensemble import RandomForestClassifier\n",
        "from sklearn.feature_selection import RFE\n",
        "from sklearn.feature_selection import SelectKBest\n",
        "from sklearn.feature_selection import mutual_info_classif\n",
        "from xverse.transformer import WOE\n",
        "\n",
        "# Import Neural Network Libraries\n",
        "import tensorflow as tf\n",
        "from tensorflow.keras.models import Sequential\n",
        "from tensorflow.keras.layers import Dense\n",
        "from tensorflow.keras import regularizers\n",
        "from tensorflow.keras.layers import BatchNormalization\n",
        "from keras.optimizers import SGD\n",
        "\n",
        "# Comet Experiment\n",
        "from comet_ml import Experiment\n",
        "import configparser\n",
        "\n",
        "# Save a model (for lgbm)\n",
        "import joblib"
      ]
    },
    {
      "cell_type": "code",
      "source": [
        "# Importing comet.ml\n",
        "config = configparser.ConfigParser()\n",
        "'''\n",
        "File location of your key file, it can be placed anywhere but it should not the \n",
        "part of git due to privacy and security purposes\n",
        "'''\n",
        "config.read('keys\\\\comet_ml.ini')\n",
        "API_KEY = config['comet_ml']['api_key']\n",
        "PROJECT_NAME = config['comet_ml']['project_name']\n",
        "WORKSPACE = config['comet_ml']['workspace']"
      ],
      "metadata": {
        "id": "q-9hA5AfylBL"
      },
      "execution_count": null,
      "outputs": []
    },
    {
      "cell_type": "code",
      "source": [
        "def dataload(train_link):\n",
        "  \"\"\"\n",
        "  This finction is used for loading the data.\n",
        "  params: train_link\n",
        "  return: train_df\n",
        "  \"\"\"\n",
        "  train_df = pd.read_csv(train_link)\n",
        "  train_df.rename(columns={'game date':'game_date', 'period time':'period_time','game id':'game_id','home team':'home_team', 'away team':'away_team',\n",
        "                          'is goal':'is_goal', 'team shot':'team_shot', 'x shot':'x_shot', 'y shot':'y_shot', 'shot type':'shot_type',\n",
        "                          'empty net':'empty_net', 'home goal':'home_goal', 'away goal':'away_goal', 'is rebound':'is_rebound', \n",
        "                          'game seconds':'game_seconds', 'last event type':'last_event_type', 'x last event':'x_last_event',\n",
        "                          'y last event':'y_last_event', 'time from last event':'time_from_last_event', \n",
        "                          'num player home':'num_player_home', 'num player away':'num_player_away', 'time power play':'time_power_play',\n",
        "                          'shot distance':'shot_distance', 'shot angle':'shot_angle', 'change in shot angle':'change_in_shot_angle',\n",
        "                          'distance from last event':'distance_from_last_event'}, inplace=True)\n",
        "  return train_df"
      ],
      "metadata": {
        "id": "cO3l9NwjNand"
      },
      "execution_count": null,
      "outputs": []
    },
    {
      "cell_type": "code",
      "source": [
        "path = '\\\\'.join(str(os.getcwd()).split('\\\\')[:-2])\n",
        "read_csv_path = os.path.join(path, 'data\\\\processed\\\\df_feature_engineering.csv')\n",
        "train_df = dataload(read_csv_path)\n",
        "\n",
        "# Preprocessing of dataset\n",
        "X = train_df.copy()\n",
        "X['is_rebound'] = np.where(X['is_rebound'] == False, 0, 1)\n",
        "X['is_goal'] = np.where(X['is_goal'] == False, 0, 1)\n",
        "X['empty_net'] = np.where(X['empty_net'] == False, 0, 1)\n",
        "transformer = make_column_transformer(\n",
        "    (OneHotEncoder(), ['shot_type', 'last_event_type']), remainder='passthrough')\n",
        "transformed = transformer.fit_transform(X)\n",
        "transformed_X = pd.DataFrame(transformed, columns=transformer.get_feature_names())\n",
        "y_numeric = transformed_X[['is_goal']]\n",
        "transformed_X = transformed_X.drop(['game_date', 'is_goal', 'period_time', \n",
        "                                    'home_team', 'away_team', 'team_shot', \n",
        "                                    'shooter', 'goalie', 'rinkSide', 'strength'], axis=1)\n",
        "trans_X = pd.concat((transformed_X, y_numeric), axis=1)\n",
        "trans_X.dropna(inplace=True)\n",
        "y_numeric = trans_X[['is_goal']]\n",
        "transformed_X = trans_X.drop(['is_goal'], axis=1)"
      ],
      "metadata": {
        "colab": {
          "base_uri": "https://localhost:8080/"
        },
        "id": "sUWz7KXhuOoa",
        "outputId": "34df8b7b-2823-49da-9046-660f31a1189e"
      },
      "execution_count": null,
      "outputs": [
        {
          "output_type": "stream",
          "name": "stderr",
          "text": [
            "/usr/local/lib/python3.7/dist-packages/sklearn/utils/deprecation.py:87: FutureWarning: Function get_feature_names is deprecated; get_feature_names is deprecated in 1.0 and will be removed in 1.2. Please use get_feature_names_out instead.\n",
            "  warnings.warn(msg, category=FutureWarning)\n"
          ]
        }
      ]
    },
    {
      "cell_type": "code",
      "source": [
        "# Splitting the dataset for the selection of features\n",
        "X_train, X_test, Y_train, y_test = train_test_split(transformed_X, y_numeric, test_size=0.2, shuffle=True, stratify=y_numeric, random_state=42)\n",
        "# Change the datatype from object to it's numeric form\n",
        "X_train[X_train.columns] = X_train[X_train.columns].apply(pd.to_numeric, errors='coerce')\n",
        "Y_train=Y_train.astype('int')"
      ],
      "metadata": {
        "id": "82SPXnBg99tQ"
      },
      "execution_count": null,
      "outputs": []
    },
    {
      "cell_type": "code",
      "source": [
        "# Feature selection via RFE (Wrapper Method) with Logistic Regression\n",
        "Y_train = np.ravel(Y_train)\n",
        "model = LogisticRegression()\n",
        "rfe = RFE(model, n_features_to_select=25, step=1)\n",
        "rfe_fit = rfe.fit(X_train, Y_train)\n",
        "print(\"Num Features: %s\" % (rfe_fit.n_features_))\n",
        "print(\"Selected Features: %s\" % (rfe_fit.support_))\n",
        "print(\"Feature Ranking: %s\" % (rfe_fit.ranking_))"
      ],
      "metadata": {
        "colab": {
          "base_uri": "https://localhost:8080/"
        },
        "id": "pxhaS2I3LXFp",
        "outputId": "a2d5e3cf-846d-4a18-df12-450b117eb8a8"
      },
      "execution_count": null,
      "outputs": [
        {
          "output_type": "stream",
          "name": "stdout",
          "text": [
            "Num Features: 25\n",
            "Selected Features: [False False  True False False False  True False False  True False False\n",
            " False  True False False False False False False False False False False\n",
            "  True  True  True  True  True  True  True  True  True  True  True  True\n",
            "  True  True  True  True  True  True  True  True  True]\n",
            "Feature Ranking: [ 7  6  1  2  3  9  1 11  4  1 16 12 14  1  5 15 13 17 18 19 20 10 21  8\n",
            "  1  1  1  1  1  1  1  1  1  1  1  1  1  1  1  1  1  1  1  1  1]\n"
          ]
        }
      ]
    },
    {
      "cell_type": "code",
      "source": [
        "selected_feature = pd.DataFrame()\n",
        "selected_feature['features'] = X_train.columns\n",
        "selected_feature['RFE_select'] = rfe_fit.support_\n",
        "final_selected_feature = selected_feature.loc[selected_feature['RFE_select']==True]['features'].values\n",
        "print(final_selected_feature)"
      ],
      "metadata": {
        "colab": {
          "base_uri": "https://localhost:8080/"
        },
        "id": "l9FLweQUQdi1",
        "outputId": "758aff8d-c857-4531-d420-4aa4e9083b55"
      },
      "execution_count": null,
      "outputs": [
        {
          "output_type": "stream",
          "name": "stdout",
          "text": [
            "['onehotencoder__x0_Slap Shot' 'onehotencoder__x0_Wrist Shot'\n",
            " 'onehotencoder__x1_Faceoff' 'onehotencoder__x1_Hit' 'season' 'period'\n",
            " 'game_id' 'x_shot' 'y_shot' 'empty_net' 'home_goal' 'away_goal'\n",
            " 'is_rebound' 'game_seconds' 'x_last_event' 'y_last_event'\n",
            " 'time_from_last_event' 'num_player_home' 'num_player_away'\n",
            " 'time_power_play' 'shot_distance' 'shot_angle' 'change_in_shot_angle'\n",
            " 'distance_from_last_event' 'speed']\n"
          ]
        }
      ]
    },
    {
      "cell_type": "code",
      "source": [
        "# Feature selection via RFE (Wrapper Method) with Random Forest Classifier\n",
        "Y_train = np.ravel(Y_train)\n",
        "model = RandomForestClassifier(random_state = 42)\n",
        "rfe = RFE(model, n_features_to_select=25, step=1)\n",
        "rfe_fit = rfe.fit(X_train, Y_train)\n",
        "print(\"Num Features: %s\" % (rfe_fit.n_features_))\n",
        "print(\"Selected Features: %s\" % (rfe_fit.support_))\n",
        "print(\"Feature Ranking: %s\" % (rfe_fit.ranking_))"
      ],
      "metadata": {
        "colab": {
          "base_uri": "https://localhost:8080/"
        },
        "id": "M4xrt-X_VQ11",
        "outputId": "2e084367-978e-4684-873f-19f61392c925"
      },
      "execution_count": null,
      "outputs": [
        {
          "output_type": "stream",
          "name": "stdout",
          "text": [
            "Num Features: 25\n",
            "Selected Features: [False False False  True False False  True False  True False False False\n",
            " False False  True False False False False False False  True False False\n",
            "  True  True  True  True  True  True  True  True False  True  True  True\n",
            "  True  True  True  True  True  True  True  True  True]\n",
            "Feature Ranking: [ 8  9  7  1  5 11  1 12  1  2 20  3 14  4  1 15 13 16 17 18 19  1 21  6\n",
            "  1  1  1  1  1  1  1  1 10  1  1  1  1  1  1  1  1  1  1  1  1]\n"
          ]
        }
      ]
    },
    {
      "cell_type": "code",
      "source": [
        "selected_rfc_feature = pd.DataFrame()\n",
        "selected_rfc_feature['features'] = X_train.columns\n",
        "selected_rfc_feature['RFE_select'] = rfe_fit.support_\n",
        "final_selected_rfc_feature = selected_rfc_feature.loc[selected_rfc_feature['RFE_select']==True]['features'].values\n",
        "print(final_selected_rfc_feature)"
      ],
      "metadata": {
        "colab": {
          "base_uri": "https://localhost:8080/"
        },
        "id": "GG6wOW3nVts_",
        "outputId": "67897139-57ee-42fe-e4bd-213c2517adef"
      },
      "execution_count": null,
      "outputs": [
        {
          "output_type": "stream",
          "name": "stdout",
          "text": [
            "['onehotencoder__x0_Snap Shot' 'onehotencoder__x0_Wrist Shot'\n",
            " 'onehotencoder__x1_Blocked Shot' 'onehotencoder__x1_Missed Shot'\n",
            " 'onehotencoder__x1_Shot' 'season' 'period' 'game_id' 'x_shot' 'y_shot'\n",
            " 'empty_net' 'home_goal' 'away_goal' 'game_seconds' 'x_last_event'\n",
            " 'y_last_event' 'time_from_last_event' 'num_player_home' 'num_player_away'\n",
            " 'time_power_play' 'shot_distance' 'shot_angle' 'change_in_shot_angle'\n",
            " 'distance_from_last_event' 'speed']\n"
          ]
        }
      ]
    },
    {
      "cell_type": "code",
      "source": [
        "# Weight of Evidence transformation dataset\n",
        "# Feature selection via Weight of Evidence Technique (WOE)\n",
        "# SOURCE: https://pypi.org/project/xverse/\n",
        "clf = WOE()\n",
        "clf.fit(X_train, Y_train)\n",
        "print(clf.woe_df.head()) "
      ],
      "metadata": {
        "colab": {
          "base_uri": "https://localhost:8080/"
        },
        "id": "RCYgpX_qc2cr",
        "outputId": "16440a36-1f34-4d72-abed-3844285f8e1e"
      },
      "execution_count": null,
      "outputs": [
        {
          "output_type": "stream",
          "name": "stdout",
          "text": [
            "                 Variable_Name Category   Count  Event  Non_Event  Event_Rate  \\\n",
            "0   onehotencoder__x0_Backhand      0.0  219619  19730     199889    0.089837   \n",
            "1   onehotencoder__x0_Backhand      1.0   18929   2034      16895    0.107454   \n",
            "2  onehotencoder__x0_Deflected      0.0  234631  21091     213540    0.089890   \n",
            "3  onehotencoder__x0_Deflected      1.0    3917    673       3244    0.171815   \n",
            "4  onehotencoder__x0_Slap Shot      0.0  200814  19379     181435    0.096502   \n",
            "\n",
            "   Non_Event_Rate  Event_Distribution  Non_Event_Distribution       WOE  \\\n",
            "0        0.910163            0.906543                0.922065 -0.016978   \n",
            "1        0.892546            0.093457                0.077935  0.181631   \n",
            "2        0.910110            0.969077                0.985036 -0.016334   \n",
            "3        0.828185            0.030923                0.014964  0.725827   \n",
            "4        0.903498            0.890415                0.836939  0.061937   \n",
            "\n",
            "   Information_Value  \n",
            "0           0.003083  \n",
            "1           0.003083  \n",
            "2           0.011844  \n",
            "3           0.011844  \n",
            "4           0.024565  \n"
          ]
        }
      ]
    },
    {
      "cell_type": "code",
      "source": [
        "# Information value dataset\n",
        "print(clf.iv_df)"
      ],
      "metadata": {
        "colab": {
          "base_uri": "https://localhost:8080/"
        },
        "id": "kQfzSDFcd90B",
        "outputId": "a24bec78-0e24-49f9-ba53-fd40acd43214"
      },
      "execution_count": null,
      "outputs": [
        {
          "output_type": "stream",
          "name": "stdout",
          "text": [
            "                           Variable_Name  Information_Value\n",
            "37                         shot_distance       4.276722e-01\n",
            "42                                x_shot       2.668235e-01\n",
            "44                                y_shot       2.621623e-01\n",
            "6                              home_goal       1.332589e-01\n",
            "7                             is_rebound       7.763324e-02\n",
            "1                   change_in_shot_angle       7.606639e-02\n",
            "0                              away_goal       7.155658e-02\n",
            "39                  time_from_last_event       6.099375e-02\n",
            "36                            shot_angle       4.210308e-02\n",
            "14              onehotencoder__x0_Tip-In       3.856064e-02\n",
            "2               distance_from_last_event       3.098943e-02\n",
            "38                                 speed       2.677774e-02\n",
            "12           onehotencoder__x0_Slap Shot       2.456506e-02\n",
            "40                       time_power_play       2.205246e-02\n",
            "19             onehotencoder__x1_Faceoff       1.976655e-02\n",
            "31                onehotencoder__x1_Shot       1.548730e-02\n",
            "23                 onehotencoder__x1_Hit       1.438194e-02\n",
            "43                          y_last_event       1.359758e-02\n",
            "11           onehotencoder__x0_Deflected       1.184371e-02\n",
            "34                                period       1.014396e-02\n",
            "5                           game_seconds       9.500419e-03\n",
            "21            onehotencoder__x1_Giveaway       7.926592e-03\n",
            "16          onehotencoder__x0_Wrist Shot       3.892242e-03\n",
            "10            onehotencoder__x0_Backhand       3.082873e-03\n",
            "33            onehotencoder__x1_Takeaway       2.768428e-03\n",
            "3                              empty_net       2.640681e-03\n",
            "17                 onehotencoder__x0_nan       2.612057e-03\n",
            "15         onehotencoder__x0_Wrap-around       9.327611e-04\n",
            "35                                season       5.840194e-04\n",
            "41                          x_last_event       4.938054e-04\n",
            "4                                game_id       3.658078e-04\n",
            "18        onehotencoder__x1_Blocked Shot       3.277111e-04\n",
            "24         onehotencoder__x1_Missed Shot       1.968345e-04\n",
            "13           onehotencoder__x0_Snap Shot       1.940247e-04\n",
            "9                        num_player_home       6.497329e-05\n",
            "26             onehotencoder__x1_Penalty       5.185225e-05\n",
            "8                        num_player_away       3.925881e-05\n",
            "22                onehotencoder__x1_Goal       1.042674e-09\n",
            "32            onehotencoder__x1_Stoppage       0.000000e+00\n",
            "30   onehotencoder__x1_Shootout Complete       0.000000e+00\n",
            "29        onehotencoder__x1_Period Start       0.000000e+00\n",
            "28        onehotencoder__x1_Period Ready       0.000000e+00\n",
            "27          onehotencoder__x1_Period End       0.000000e+00\n",
            "25  onehotencoder__x1_Official Challenge       0.000000e+00\n",
            "20       onehotencoder__x1_Game Official       0.000000e+00\n"
          ]
        }
      ]
    },
    {
      "cell_type": "code",
      "source": [
        "# Select only strong features: Information value should be 0.3 to 0.5\n",
        "woe_feature_select = pd.DataFrame(clf.iv_df)\n",
        "woe_feature_select[(woe_feature_select['Information_Value']>0.3) & (woe_feature_select['Information_Value']<0.5)]"
      ],
      "metadata": {
        "colab": {
          "base_uri": "https://localhost:8080/",
          "height": 81
        },
        "id": "hQ1CpQgIeYJ_",
        "outputId": "985d5ce2-094c-460e-d948-7d10a7cbaed1"
      },
      "execution_count": null,
      "outputs": [
        {
          "output_type": "execute_result",
          "data": {
            "text/plain": [
              "    Variable_Name  Information_Value\n",
              "37  shot_distance           0.427672"
            ],
            "text/html": [
              "\n",
              "  <div id=\"df-5fd4381f-3983-4f55-b333-932cb22bf121\">\n",
              "    <div class=\"colab-df-container\">\n",
              "      <div>\n",
              "<style scoped>\n",
              "    .dataframe tbody tr th:only-of-type {\n",
              "        vertical-align: middle;\n",
              "    }\n",
              "\n",
              "    .dataframe tbody tr th {\n",
              "        vertical-align: top;\n",
              "    }\n",
              "\n",
              "    .dataframe thead th {\n",
              "        text-align: right;\n",
              "    }\n",
              "</style>\n",
              "<table border=\"1\" class=\"dataframe\">\n",
              "  <thead>\n",
              "    <tr style=\"text-align: right;\">\n",
              "      <th></th>\n",
              "      <th>Variable_Name</th>\n",
              "      <th>Information_Value</th>\n",
              "    </tr>\n",
              "  </thead>\n",
              "  <tbody>\n",
              "    <tr>\n",
              "      <th>37</th>\n",
              "      <td>shot_distance</td>\n",
              "      <td>0.427672</td>\n",
              "    </tr>\n",
              "  </tbody>\n",
              "</table>\n",
              "</div>\n",
              "      <button class=\"colab-df-convert\" onclick=\"convertToInteractive('df-5fd4381f-3983-4f55-b333-932cb22bf121')\"\n",
              "              title=\"Convert this dataframe to an interactive table.\"\n",
              "              style=\"display:none;\">\n",
              "        \n",
              "  <svg xmlns=\"http://www.w3.org/2000/svg\" height=\"24px\"viewBox=\"0 0 24 24\"\n",
              "       width=\"24px\">\n",
              "    <path d=\"M0 0h24v24H0V0z\" fill=\"none\"/>\n",
              "    <path d=\"M18.56 5.44l.94 2.06.94-2.06 2.06-.94-2.06-.94-.94-2.06-.94 2.06-2.06.94zm-11 1L8.5 8.5l.94-2.06 2.06-.94-2.06-.94L8.5 2.5l-.94 2.06-2.06.94zm10 10l.94 2.06.94-2.06 2.06-.94-2.06-.94-.94-2.06-.94 2.06-2.06.94z\"/><path d=\"M17.41 7.96l-1.37-1.37c-.4-.4-.92-.59-1.43-.59-.52 0-1.04.2-1.43.59L10.3 9.45l-7.72 7.72c-.78.78-.78 2.05 0 2.83L4 21.41c.39.39.9.59 1.41.59.51 0 1.02-.2 1.41-.59l7.78-7.78 2.81-2.81c.8-.78.8-2.07 0-2.86zM5.41 20L4 18.59l7.72-7.72 1.47 1.35L5.41 20z\"/>\n",
              "  </svg>\n",
              "      </button>\n",
              "      \n",
              "  <style>\n",
              "    .colab-df-container {\n",
              "      display:flex;\n",
              "      flex-wrap:wrap;\n",
              "      gap: 12px;\n",
              "    }\n",
              "\n",
              "    .colab-df-convert {\n",
              "      background-color: #E8F0FE;\n",
              "      border: none;\n",
              "      border-radius: 50%;\n",
              "      cursor: pointer;\n",
              "      display: none;\n",
              "      fill: #1967D2;\n",
              "      height: 32px;\n",
              "      padding: 0 0 0 0;\n",
              "      width: 32px;\n",
              "    }\n",
              "\n",
              "    .colab-df-convert:hover {\n",
              "      background-color: #E2EBFA;\n",
              "      box-shadow: 0px 1px 2px rgba(60, 64, 67, 0.3), 0px 1px 3px 1px rgba(60, 64, 67, 0.15);\n",
              "      fill: #174EA6;\n",
              "    }\n",
              "\n",
              "    [theme=dark] .colab-df-convert {\n",
              "      background-color: #3B4455;\n",
              "      fill: #D2E3FC;\n",
              "    }\n",
              "\n",
              "    [theme=dark] .colab-df-convert:hover {\n",
              "      background-color: #434B5C;\n",
              "      box-shadow: 0px 1px 3px 1px rgba(0, 0, 0, 0.15);\n",
              "      filter: drop-shadow(0px 1px 2px rgba(0, 0, 0, 0.3));\n",
              "      fill: #FFFFFF;\n",
              "    }\n",
              "  </style>\n",
              "\n",
              "      <script>\n",
              "        const buttonEl =\n",
              "          document.querySelector('#df-5fd4381f-3983-4f55-b333-932cb22bf121 button.colab-df-convert');\n",
              "        buttonEl.style.display =\n",
              "          google.colab.kernel.accessAllowed ? 'block' : 'none';\n",
              "\n",
              "        async function convertToInteractive(key) {\n",
              "          const element = document.querySelector('#df-5fd4381f-3983-4f55-b333-932cb22bf121');\n",
              "          const dataTable =\n",
              "            await google.colab.kernel.invokeFunction('convertToInteractive',\n",
              "                                                     [key], {});\n",
              "          if (!dataTable) return;\n",
              "\n",
              "          const docLinkHtml = 'Like what you see? Visit the ' +\n",
              "            '<a target=\"_blank\" href=https://colab.research.google.com/notebooks/data_table.ipynb>data table notebook</a>'\n",
              "            + ' to learn more about interactive tables.';\n",
              "          element.innerHTML = '';\n",
              "          dataTable['output_type'] = 'display_data';\n",
              "          await google.colab.output.renderOutput(dataTable, element);\n",
              "          const docLink = document.createElement('div');\n",
              "          docLink.innerHTML = docLinkHtml;\n",
              "          element.appendChild(docLink);\n",
              "        }\n",
              "      </script>\n",
              "    </div>\n",
              "  </div>\n",
              "  "
            ]
          },
          "metadata": {},
          "execution_count": 16
        }
      ]
    },
    {
      "cell_type": "code",
      "source": [
        "# Feature Selection via Select K Best Method\n",
        "select = SelectKBest(score_func=mutual_info_classif, k=25)\n",
        "z = select.fit_transform(X_train, Y_train)\n",
        " \n",
        "print(\"After selecting best 3 features:\", z.shape)"
      ],
      "metadata": {
        "colab": {
          "base_uri": "https://localhost:8080/"
        },
        "id": "Ls2pHK0chJoC",
        "outputId": "bc0e5750-1eea-42c2-aeef-80b39ec07820"
      },
      "execution_count": null,
      "outputs": [
        {
          "output_type": "stream",
          "name": "stdout",
          "text": [
            "After selecting best 3 features: (238548, 25)\n"
          ]
        }
      ]
    },
    {
      "cell_type": "code",
      "source": [
        "# https://www.datatechnotes.com/2021/02/seleckbest-feature-selection-example-in-python.html#:~:text=The%20SelectKBest%20method%20selects%20the,a%20large%20dataset%20for%20training.\n",
        "filter = select.get_support()\n",
        "features = X_train.columns\n",
        "print(\"All features:\")\n",
        "print(features)\n",
        "print(\"Selected best 25:\")\n",
        "# print(filter)\n",
        "print(features[filter])\n",
        "print(z)"
      ],
      "metadata": {
        "colab": {
          "base_uri": "https://localhost:8080/"
        },
        "id": "rZT5gfT5iciQ",
        "outputId": "1c315cfa-49bf-45eb-9fe8-e27db8dc3793"
      },
      "execution_count": null,
      "outputs": [
        {
          "output_type": "stream",
          "name": "stdout",
          "text": [
            "All features:\n",
            "Index(['onehotencoder__x0_Backhand', 'onehotencoder__x0_Deflected',\n",
            "       'onehotencoder__x0_Slap Shot', 'onehotencoder__x0_Snap Shot',\n",
            "       'onehotencoder__x0_Tip-In', 'onehotencoder__x0_Wrap-around',\n",
            "       'onehotencoder__x0_Wrist Shot', 'onehotencoder__x0_nan',\n",
            "       'onehotencoder__x1_Blocked Shot', 'onehotencoder__x1_Faceoff',\n",
            "       'onehotencoder__x1_Game Official', 'onehotencoder__x1_Giveaway',\n",
            "       'onehotencoder__x1_Goal', 'onehotencoder__x1_Hit',\n",
            "       'onehotencoder__x1_Missed Shot', 'onehotencoder__x1_Official Challenge',\n",
            "       'onehotencoder__x1_Penalty', 'onehotencoder__x1_Period End',\n",
            "       'onehotencoder__x1_Period Ready', 'onehotencoder__x1_Period Start',\n",
            "       'onehotencoder__x1_Shootout Complete', 'onehotencoder__x1_Shot',\n",
            "       'onehotencoder__x1_Stoppage', 'onehotencoder__x1_Takeaway', 'season',\n",
            "       'period', 'game_id', 'x_shot', 'y_shot', 'empty_net', 'home_goal',\n",
            "       'away_goal', 'is_rebound', 'game_seconds', 'x_last_event',\n",
            "       'y_last_event', 'time_from_last_event', 'num_player_home',\n",
            "       'num_player_away', 'time_power_play', 'shot_distance', 'shot_angle',\n",
            "       'change_in_shot_angle', 'distance_from_last_event', 'speed'],\n",
            "      dtype='object')\n",
            "Selected best 25:\n",
            "Index(['onehotencoder__x0_Slap Shot', 'onehotencoder__x0_Tip-In',\n",
            "       'onehotencoder__x0_Wrist Shot', 'onehotencoder__x1_Faceoff',\n",
            "       'onehotencoder__x1_Hit', 'onehotencoder__x1_Shot', 'season', 'period',\n",
            "       'x_shot', 'y_shot', 'empty_net', 'home_goal', 'away_goal', 'is_rebound',\n",
            "       'game_seconds', 'x_last_event', 'y_last_event', 'time_from_last_event',\n",
            "       'num_player_home', 'num_player_away', 'shot_distance', 'shot_angle',\n",
            "       'change_in_shot_angle', 'distance_from_last_event', 'speed'],\n",
            "      dtype='object')\n",
            "[[ 0.  0.  1. ... 24.  4.  2.]\n",
            " [ 0.  0.  1. ...  0. 37.  9.]\n",
            " [ 1.  0.  0. ...  0. 23.  1.]\n",
            " ...\n",
            " [ 0.  0.  1. ...  0. 49.  1.]\n",
            " [ 0.  0.  1. ...  0.  5.  0.]\n",
            " [ 0.  0.  1. ...  0. 74.  2.]]\n"
          ]
        }
      ]
    },
    {
      "cell_type": "code",
      "source": [
        "# Extracting feature list\n",
        "feature_list = []\n",
        "for colname in features[filter]:\n",
        "  feature_list.append(colname)"
      ],
      "metadata": {
        "id": "nMk8tZ2EpA4p"
      },
      "execution_count": null,
      "outputs": []
    },
    {
      "cell_type": "code",
      "source": [
        "# Choosing common features which were given by all the different algorithms\n",
        "final_feature_selected_list = list(set(final_selected_feature).intersection(final_selected_rfc_feature, feature_list))\n",
        "print(final_feature_selected_list)"
      ],
      "metadata": {
        "colab": {
          "base_uri": "https://localhost:8080/"
        },
        "id": "qvt0e6cbpwUW",
        "outputId": "964823bf-9843-4f06-9a6f-9fc57ae5a860"
      },
      "execution_count": null,
      "outputs": [
        {
          "output_type": "stream",
          "name": "stdout",
          "text": [
            "['onehotencoder__x0_Wrist Shot', 'y_last_event', 'x_shot', 'home_goal', 'shot_distance', 'distance_from_last_event', 'y_shot', 'season', 'game_seconds', 'speed', 'num_player_away', 'num_player_home', 'change_in_shot_angle', 'empty_net', 'shot_angle', 'period', 'time_from_last_event', 'x_last_event', 'away_goal']\n"
          ]
        }
      ]
    },
    {
      "cell_type": "code",
      "source": [
        "def dataset_split(transformed_X, y_numeric):\n",
        "  \"\"\"\n",
        "  This function is for splitting the dataset.\n",
        "  params: transformed_X, y_numeric\n",
        "  return: X_train, X_test, Y_train, y_test\n",
        "  \"\"\"\n",
        "  # Split the dataset with the selected features\n",
        "  X_train, X_test, Y_train, y_test = train_test_split(transformed_X[final_feature_selected_list], \n",
        "                                                      y_numeric, test_size=0.2, shuffle=True, stratify=y_numeric)\n",
        "  # Turn the object datatype columns to numeric form\n",
        "  Y_train=Y_train.astype('int')\n",
        "  X_train[X_train.columns] = X_train[X_train.columns].apply(pd.to_numeric, errors='coerce')\n",
        "  y_test=y_test.astype('int')\n",
        "  X_test[X_test.columns] = X_test[X_test.columns].apply(pd.to_numeric, errors='coerce')\n",
        "  return X_train, X_test, Y_train, y_test"
      ],
      "metadata": {
        "id": "jEHfXPAfRUMJ"
      },
      "execution_count": null,
      "outputs": []
    },
    {
      "cell_type": "code",
      "source": [
        "def dataset_standardization(X_train):\n",
        "  \"\"\"\n",
        "  This function is used for standardizing the dataset.\n",
        "  params: X_train\n",
        "  return: X_train_scaled, X_test_scaled\n",
        "  \"\"\"\n",
        "  # Standardize the columns\n",
        "  X_scaler = StandardScaler().fit(X_train)\n",
        "  X_train_scaled = X_scaler.transform(X_train)\n",
        "  X_test_scaled = X_scaler.transform(X_test)\n",
        "  return X_train_scaled, X_test_scaled"
      ],
      "metadata": {
        "id": "2oEp_GFCsmfj"
      },
      "execution_count": null,
      "outputs": []
    },
    {
      "cell_type": "markdown",
      "source": [
        "Starting Neural Network Application"
      ],
      "metadata": {
        "id": "vUbLdU5dq4bm"
      }
    },
    {
      "cell_type": "code",
      "source": [
        "# Splitting and Standardizing the dataset\n",
        "X_train, X_test, Y_train, y_test = dataset_split(transformed_X[final_feature_selected_list], y_numeric)\n",
        "X_train_scaled, X_test_scaled = dataset_standardization(X_train)"
      ],
      "metadata": {
        "id": "fNKlST3XCxtu"
      },
      "execution_count": null,
      "outputs": []
    },
    {
      "cell_type": "code",
      "source": [
        "# Split the remaining data to train and validation\n",
        "x_train, x_val, y_train, y_val = train_test_split(X_train_scaled, Y_train, test_size=0.1, shuffle=True, stratify=Y_train)"
      ],
      "metadata": {
        "id": "O-eh6uvvstbw"
      },
      "execution_count": null,
      "outputs": []
    },
    {
      "cell_type": "code",
      "source": [
        "# Layers addition with regularization and batch normalization\n",
        "np.random.seed(42)\n",
        "model = Sequential()\n",
        "model.add(Dense(16, activation='relu', input_dim=x_train.shape[1]))\n",
        "model.add(BatchNormalization())\n",
        "model.add(Dense(8, kernel_regularizer=regularizers.l2(0.01), activation='relu'))\n",
        "model.add(BatchNormalization())\n",
        "model.add(Dense(units=1, activation=\"sigmoid\"))"
      ],
      "metadata": {
        "id": "Lu8PSIQhs3ZO"
      },
      "execution_count": null,
      "outputs": []
    },
    {
      "cell_type": "code",
      "source": [
        "# Compile the model using binary_crossentropy for the loss function, the SGD optimizer,\n",
        "# and add accuracy to the training metrics\n",
        "np.random.seed(42)\n",
        "opt = SGD(learning_rate=0.01)\n",
        "model.compile(optimizer=opt, loss=\"binary_crossentropy\", metrics=[\"accuracy\"])"
      ],
      "metadata": {
        "id": "TdmIWup3s3MI"
      },
      "execution_count": null,
      "outputs": []
    },
    {
      "cell_type": "code",
      "source": [
        "# Smaller batch size will result into smaller accuracy\n",
        "np.random.seed(42)\n",
        "history = model.fit(x=x_train, y=y_train, batch_size=128, epochs=100, validation_data=(x_val, y_val))"
      ],
      "metadata": {
        "colab": {
          "base_uri": "https://localhost:8080/"
        },
        "id": "B5UQZ0ipsBUO",
        "outputId": "d45b1629-e218-4eb8-ffcc-db1dfb8f30d5"
      },
      "execution_count": null,
      "outputs": [
        {
          "output_type": "stream",
          "name": "stdout",
          "text": [
            "Epoch 1/100\n",
            "1678/1678 [==============================] - 11s 5ms/step - loss: 0.3911 - accuracy: 0.8957 - val_loss: 0.3274 - val_accuracy: 0.9121\n",
            "Epoch 2/100\n",
            "1678/1678 [==============================] - 7s 4ms/step - loss: 0.3080 - accuracy: 0.9119 - val_loss: 0.2934 - val_accuracy: 0.9122\n",
            "Epoch 3/100\n",
            "1678/1678 [==============================] - 7s 4ms/step - loss: 0.2813 - accuracy: 0.9123 - val_loss: 0.2756 - val_accuracy: 0.9122\n",
            "Epoch 4/100\n",
            "1678/1678 [==============================] - 7s 4ms/step - loss: 0.2668 - accuracy: 0.9122 - val_loss: 0.2668 - val_accuracy: 0.9122\n",
            "Epoch 5/100\n",
            "1678/1678 [==============================] - 7s 4ms/step - loss: 0.2597 - accuracy: 0.9124 - val_loss: 0.2606 - val_accuracy: 0.9128\n",
            "Epoch 6/100\n",
            "1678/1678 [==============================] - 7s 4ms/step - loss: 0.2561 - accuracy: 0.9126 - val_loss: 0.2582 - val_accuracy: 0.9127\n",
            "Epoch 7/100\n",
            "1678/1678 [==============================] - 7s 4ms/step - loss: 0.2537 - accuracy: 0.9126 - val_loss: 0.2579 - val_accuracy: 0.9127\n",
            "Epoch 8/100\n",
            "1678/1678 [==============================] - 7s 4ms/step - loss: 0.2523 - accuracy: 0.9130 - val_loss: 0.2574 - val_accuracy: 0.9121\n",
            "Epoch 9/100\n",
            "1678/1678 [==============================] - 8s 5ms/step - loss: 0.2512 - accuracy: 0.9128 - val_loss: 0.2558 - val_accuracy: 0.9121\n",
            "Epoch 10/100\n",
            "1678/1678 [==============================] - 7s 4ms/step - loss: 0.2500 - accuracy: 0.9130 - val_loss: 0.2540 - val_accuracy: 0.9131\n",
            "Epoch 11/100\n",
            "1678/1678 [==============================] - 7s 4ms/step - loss: 0.2490 - accuracy: 0.9132 - val_loss: 0.2523 - val_accuracy: 0.9129\n",
            "Epoch 12/100\n",
            "1678/1678 [==============================] - 7s 4ms/step - loss: 0.2485 - accuracy: 0.9131 - val_loss: 0.2532 - val_accuracy: 0.9112\n",
            "Epoch 13/100\n",
            "1678/1678 [==============================] - 7s 4ms/step - loss: 0.2473 - accuracy: 0.9131 - val_loss: 0.2506 - val_accuracy: 0.9133\n",
            "Epoch 14/100\n",
            "1678/1678 [==============================] - 7s 4ms/step - loss: 0.2468 - accuracy: 0.9132 - val_loss: 0.2508 - val_accuracy: 0.9135\n",
            "Epoch 15/100\n",
            "1678/1678 [==============================] - 7s 4ms/step - loss: 0.2458 - accuracy: 0.9132 - val_loss: 0.2499 - val_accuracy: 0.9143\n",
            "Epoch 16/100\n",
            "1678/1678 [==============================] - 7s 4ms/step - loss: 0.2451 - accuracy: 0.9132 - val_loss: 0.2494 - val_accuracy: 0.9128\n",
            "Epoch 17/100\n",
            "1678/1678 [==============================] - 8s 5ms/step - loss: 0.2443 - accuracy: 0.9131 - val_loss: 0.2514 - val_accuracy: 0.9106\n",
            "Epoch 18/100\n",
            "1678/1678 [==============================] - 7s 4ms/step - loss: 0.2435 - accuracy: 0.9134 - val_loss: 0.2495 - val_accuracy: 0.9111\n",
            "Epoch 19/100\n",
            "1678/1678 [==============================] - 7s 4ms/step - loss: 0.2427 - accuracy: 0.9133 - val_loss: 0.2459 - val_accuracy: 0.9140\n",
            "Epoch 20/100\n",
            "1678/1678 [==============================] - 7s 4ms/step - loss: 0.2421 - accuracy: 0.9133 - val_loss: 0.2457 - val_accuracy: 0.9128\n",
            "Epoch 21/100\n",
            "1678/1678 [==============================] - 7s 4ms/step - loss: 0.2413 - accuracy: 0.9134 - val_loss: 0.2444 - val_accuracy: 0.9141\n",
            "Epoch 22/100\n",
            "1678/1678 [==============================] - 7s 4ms/step - loss: 0.2408 - accuracy: 0.9134 - val_loss: 0.2463 - val_accuracy: 0.9123\n",
            "Epoch 23/100\n",
            "1678/1678 [==============================] - 7s 4ms/step - loss: 0.2403 - accuracy: 0.9135 - val_loss: 0.2442 - val_accuracy: 0.9138\n",
            "Epoch 24/100\n",
            "1678/1678 [==============================] - 7s 4ms/step - loss: 0.2401 - accuracy: 0.9132 - val_loss: 0.2462 - val_accuracy: 0.9139\n",
            "Epoch 25/100\n",
            "1678/1678 [==============================] - 8s 5ms/step - loss: 0.2394 - accuracy: 0.9138 - val_loss: 0.2436 - val_accuracy: 0.9141\n",
            "Epoch 26/100\n",
            "1678/1678 [==============================] - 7s 4ms/step - loss: 0.2389 - accuracy: 0.9134 - val_loss: 0.2438 - val_accuracy: 0.9131\n",
            "Epoch 27/100\n",
            "1678/1678 [==============================] - 7s 4ms/step - loss: 0.2385 - accuracy: 0.9138 - val_loss: 0.2441 - val_accuracy: 0.9145\n",
            "Epoch 28/100\n",
            "1678/1678 [==============================] - 7s 4ms/step - loss: 0.2385 - accuracy: 0.9137 - val_loss: 0.2438 - val_accuracy: 0.9128\n",
            "Epoch 29/100\n",
            "1678/1678 [==============================] - 7s 4ms/step - loss: 0.2380 - accuracy: 0.9139 - val_loss: 0.2428 - val_accuracy: 0.9136\n",
            "Epoch 30/100\n",
            "1678/1678 [==============================] - 7s 4ms/step - loss: 0.2381 - accuracy: 0.9138 - val_loss: 0.2426 - val_accuracy: 0.9135\n",
            "Epoch 31/100\n",
            "1678/1678 [==============================] - 7s 4ms/step - loss: 0.2380 - accuracy: 0.9137 - val_loss: 0.2427 - val_accuracy: 0.9134\n",
            "Epoch 32/100\n",
            "1678/1678 [==============================] - 7s 4ms/step - loss: 0.2376 - accuracy: 0.9137 - val_loss: 0.2437 - val_accuracy: 0.9138\n",
            "Epoch 33/100\n",
            "1678/1678 [==============================] - 7s 4ms/step - loss: 0.2374 - accuracy: 0.9138 - val_loss: 0.2413 - val_accuracy: 0.9138\n",
            "Epoch 34/100\n",
            "1678/1678 [==============================] - 7s 4ms/step - loss: 0.2373 - accuracy: 0.9136 - val_loss: 0.2418 - val_accuracy: 0.9147\n",
            "Epoch 35/100\n",
            "1678/1678 [==============================] - 7s 4ms/step - loss: 0.2372 - accuracy: 0.9140 - val_loss: 0.2418 - val_accuracy: 0.9141\n",
            "Epoch 36/100\n",
            "1678/1678 [==============================] - 7s 4ms/step - loss: 0.2370 - accuracy: 0.9143 - val_loss: 0.2421 - val_accuracy: 0.9138\n",
            "Epoch 37/100\n",
            "1678/1678 [==============================] - 7s 4ms/step - loss: 0.2370 - accuracy: 0.9139 - val_loss: 0.2408 - val_accuracy: 0.9141\n",
            "Epoch 38/100\n",
            "1678/1678 [==============================] - 7s 4ms/step - loss: 0.2367 - accuracy: 0.9141 - val_loss: 0.2433 - val_accuracy: 0.9134\n",
            "Epoch 39/100\n",
            "1678/1678 [==============================] - 7s 4ms/step - loss: 0.2367 - accuracy: 0.9140 - val_loss: 0.2407 - val_accuracy: 0.9143\n",
            "Epoch 40/100\n",
            "1678/1678 [==============================] - 7s 4ms/step - loss: 0.2365 - accuracy: 0.9140 - val_loss: 0.2418 - val_accuracy: 0.9145\n",
            "Epoch 41/100\n",
            "1678/1678 [==============================] - 8s 5ms/step - loss: 0.2361 - accuracy: 0.9143 - val_loss: 0.2408 - val_accuracy: 0.9147\n",
            "Epoch 42/100\n",
            "1678/1678 [==============================] - 7s 4ms/step - loss: 0.2361 - accuracy: 0.9142 - val_loss: 0.2445 - val_accuracy: 0.9154\n",
            "Epoch 43/100\n",
            "1678/1678 [==============================] - 7s 4ms/step - loss: 0.2360 - accuracy: 0.9143 - val_loss: 0.2413 - val_accuracy: 0.9139\n",
            "Epoch 44/100\n",
            "1678/1678 [==============================] - 7s 4ms/step - loss: 0.2358 - accuracy: 0.9142 - val_loss: 0.2420 - val_accuracy: 0.9147\n",
            "Epoch 45/100\n",
            "1678/1678 [==============================] - 7s 4ms/step - loss: 0.2357 - accuracy: 0.9141 - val_loss: 0.2410 - val_accuracy: 0.9145\n",
            "Epoch 46/100\n",
            "1678/1678 [==============================] - 7s 4ms/step - loss: 0.2356 - accuracy: 0.9144 - val_loss: 0.2409 - val_accuracy: 0.9142\n",
            "Epoch 47/100\n",
            "1678/1678 [==============================] - 7s 4ms/step - loss: 0.2356 - accuracy: 0.9144 - val_loss: 0.2410 - val_accuracy: 0.9142\n",
            "Epoch 48/100\n",
            "1678/1678 [==============================] - 8s 5ms/step - loss: 0.2356 - accuracy: 0.9143 - val_loss: 0.2409 - val_accuracy: 0.9141\n",
            "Epoch 49/100\n",
            "1678/1678 [==============================] - 7s 4ms/step - loss: 0.2357 - accuracy: 0.9145 - val_loss: 0.2421 - val_accuracy: 0.9134\n",
            "Epoch 50/100\n",
            "1678/1678 [==============================] - 7s 4ms/step - loss: 0.2354 - accuracy: 0.9144 - val_loss: 0.2408 - val_accuracy: 0.9134\n",
            "Epoch 51/100\n",
            "1678/1678 [==============================] - 7s 4ms/step - loss: 0.2354 - accuracy: 0.9141 - val_loss: 0.2393 - val_accuracy: 0.9146\n",
            "Epoch 52/100\n",
            "1678/1678 [==============================] - 7s 4ms/step - loss: 0.2353 - accuracy: 0.9143 - val_loss: 0.2411 - val_accuracy: 0.9127\n",
            "Epoch 53/100\n",
            "1678/1678 [==============================] - 7s 4ms/step - loss: 0.2352 - accuracy: 0.9144 - val_loss: 0.2416 - val_accuracy: 0.9145\n",
            "Epoch 54/100\n",
            "1678/1678 [==============================] - 7s 4ms/step - loss: 0.2354 - accuracy: 0.9143 - val_loss: 0.2410 - val_accuracy: 0.9147\n",
            "Epoch 55/100\n",
            "1678/1678 [==============================] - 7s 4ms/step - loss: 0.2351 - accuracy: 0.9145 - val_loss: 0.2408 - val_accuracy: 0.9142\n",
            "Epoch 56/100\n",
            "1678/1678 [==============================] - 8s 5ms/step - loss: 0.2351 - accuracy: 0.9147 - val_loss: 0.2404 - val_accuracy: 0.9144\n",
            "Epoch 57/100\n",
            "1678/1678 [==============================] - 7s 4ms/step - loss: 0.2349 - accuracy: 0.9147 - val_loss: 0.2406 - val_accuracy: 0.9140\n",
            "Epoch 58/100\n",
            "1678/1678 [==============================] - 7s 4ms/step - loss: 0.2350 - accuracy: 0.9143 - val_loss: 0.2426 - val_accuracy: 0.9139\n",
            "Epoch 59/100\n",
            "1678/1678 [==============================] - 7s 4ms/step - loss: 0.2348 - accuracy: 0.9146 - val_loss: 0.2413 - val_accuracy: 0.9141\n",
            "Epoch 60/100\n",
            "1678/1678 [==============================] - 7s 4ms/step - loss: 0.2349 - accuracy: 0.9147 - val_loss: 0.2400 - val_accuracy: 0.9144\n",
            "Epoch 61/100\n",
            "1678/1678 [==============================] - 7s 4ms/step - loss: 0.2349 - accuracy: 0.9146 - val_loss: 0.2425 - val_accuracy: 0.9132\n",
            "Epoch 62/100\n",
            "1678/1678 [==============================] - 7s 4ms/step - loss: 0.2348 - accuracy: 0.9145 - val_loss: 0.2409 - val_accuracy: 0.9140\n",
            "Epoch 63/100\n",
            "1678/1678 [==============================] - 7s 4ms/step - loss: 0.2347 - accuracy: 0.9147 - val_loss: 0.2414 - val_accuracy: 0.9143\n",
            "Epoch 64/100\n",
            "1678/1678 [==============================] - 8s 5ms/step - loss: 0.2345 - accuracy: 0.9144 - val_loss: 0.2422 - val_accuracy: 0.9143\n",
            "Epoch 65/100\n",
            "1678/1678 [==============================] - 7s 4ms/step - loss: 0.2347 - accuracy: 0.9146 - val_loss: 0.2399 - val_accuracy: 0.9151\n",
            "Epoch 66/100\n",
            "1678/1678 [==============================] - 7s 4ms/step - loss: 0.2346 - accuracy: 0.9149 - val_loss: 0.2398 - val_accuracy: 0.9148\n",
            "Epoch 67/100\n",
            "1678/1678 [==============================] - 7s 4ms/step - loss: 0.2346 - accuracy: 0.9147 - val_loss: 0.2406 - val_accuracy: 0.9146\n",
            "Epoch 68/100\n",
            "1678/1678 [==============================] - 7s 4ms/step - loss: 0.2345 - accuracy: 0.9146 - val_loss: 0.2403 - val_accuracy: 0.9142\n",
            "Epoch 69/100\n",
            "1678/1678 [==============================] - 7s 4ms/step - loss: 0.2342 - accuracy: 0.9146 - val_loss: 0.2396 - val_accuracy: 0.9138\n",
            "Epoch 70/100\n",
            "1678/1678 [==============================] - 7s 4ms/step - loss: 0.2344 - accuracy: 0.9146 - val_loss: 0.2399 - val_accuracy: 0.9142\n",
            "Epoch 71/100\n",
            "1678/1678 [==============================] - 7s 4ms/step - loss: 0.2342 - accuracy: 0.9148 - val_loss: 0.2397 - val_accuracy: 0.9149\n",
            "Epoch 72/100\n",
            "1678/1678 [==============================] - 8s 5ms/step - loss: 0.2343 - accuracy: 0.9149 - val_loss: 0.2399 - val_accuracy: 0.9147\n",
            "Epoch 73/100\n",
            "1678/1678 [==============================] - 7s 4ms/step - loss: 0.2345 - accuracy: 0.9147 - val_loss: 0.2392 - val_accuracy: 0.9143\n",
            "Epoch 74/100\n",
            "1678/1678 [==============================] - 7s 4ms/step - loss: 0.2344 - accuracy: 0.9147 - val_loss: 0.2396 - val_accuracy: 0.9149\n",
            "Epoch 75/100\n",
            "1678/1678 [==============================] - 8s 4ms/step - loss: 0.2343 - accuracy: 0.9147 - val_loss: 0.2396 - val_accuracy: 0.9154\n",
            "Epoch 76/100\n",
            "1678/1678 [==============================] - 7s 4ms/step - loss: 0.2342 - accuracy: 0.9148 - val_loss: 0.2398 - val_accuracy: 0.9144\n",
            "Epoch 77/100\n",
            "1678/1678 [==============================] - 7s 4ms/step - loss: 0.2342 - accuracy: 0.9146 - val_loss: 0.2393 - val_accuracy: 0.9142\n",
            "Epoch 78/100\n",
            "1678/1678 [==============================] - 7s 4ms/step - loss: 0.2342 - accuracy: 0.9147 - val_loss: 0.2401 - val_accuracy: 0.9146\n",
            "Epoch 79/100\n",
            "1678/1678 [==============================] - 8s 5ms/step - loss: 0.2343 - accuracy: 0.9148 - val_loss: 0.2389 - val_accuracy: 0.9147\n",
            "Epoch 80/100\n",
            "1678/1678 [==============================] - 7s 4ms/step - loss: 0.2342 - accuracy: 0.9148 - val_loss: 0.2401 - val_accuracy: 0.9151\n",
            "Epoch 81/100\n",
            "1678/1678 [==============================] - 7s 4ms/step - loss: 0.2342 - accuracy: 0.9145 - val_loss: 0.2396 - val_accuracy: 0.9149\n",
            "Epoch 82/100\n",
            "1678/1678 [==============================] - 7s 4ms/step - loss: 0.2343 - accuracy: 0.9147 - val_loss: 0.2398 - val_accuracy: 0.9147\n",
            "Epoch 83/100\n",
            "1678/1678 [==============================] - 7s 4ms/step - loss: 0.2340 - accuracy: 0.9147 - val_loss: 0.2393 - val_accuracy: 0.9149\n",
            "Epoch 84/100\n",
            "1678/1678 [==============================] - 7s 4ms/step - loss: 0.2342 - accuracy: 0.9149 - val_loss: 0.2397 - val_accuracy: 0.9143\n",
            "Epoch 85/100\n",
            "1678/1678 [==============================] - 7s 4ms/step - loss: 0.2340 - accuracy: 0.9148 - val_loss: 0.2395 - val_accuracy: 0.9149\n",
            "Epoch 86/100\n",
            "1678/1678 [==============================] - 7s 4ms/step - loss: 0.2340 - accuracy: 0.9148 - val_loss: 0.2397 - val_accuracy: 0.9147\n",
            "Epoch 87/100\n",
            "1678/1678 [==============================] - 8s 5ms/step - loss: 0.2339 - accuracy: 0.9148 - val_loss: 0.2394 - val_accuracy: 0.9149\n",
            "Epoch 88/100\n",
            "1678/1678 [==============================] - 7s 4ms/step - loss: 0.2339 - accuracy: 0.9151 - val_loss: 0.2401 - val_accuracy: 0.9151\n",
            "Epoch 89/100\n",
            "1678/1678 [==============================] - 7s 4ms/step - loss: 0.2340 - accuracy: 0.9149 - val_loss: 0.2398 - val_accuracy: 0.9152\n",
            "Epoch 90/100\n",
            "1678/1678 [==============================] - 7s 4ms/step - loss: 0.2340 - accuracy: 0.9148 - val_loss: 0.2387 - val_accuracy: 0.9149\n",
            "Epoch 91/100\n",
            "1678/1678 [==============================] - 7s 4ms/step - loss: 0.2338 - accuracy: 0.9149 - val_loss: 0.2398 - val_accuracy: 0.9143\n",
            "Epoch 92/100\n",
            "1678/1678 [==============================] - 7s 4ms/step - loss: 0.2341 - accuracy: 0.9146 - val_loss: 0.2395 - val_accuracy: 0.9145\n",
            "Epoch 93/100\n",
            "1678/1678 [==============================] - 7s 4ms/step - loss: 0.2340 - accuracy: 0.9147 - val_loss: 0.2392 - val_accuracy: 0.9149\n",
            "Epoch 94/100\n",
            "1678/1678 [==============================] - 7s 4ms/step - loss: 0.2337 - accuracy: 0.9150 - val_loss: 0.2395 - val_accuracy: 0.9146\n",
            "Epoch 95/100\n",
            "1678/1678 [==============================] - 8s 5ms/step - loss: 0.2337 - accuracy: 0.9147 - val_loss: 0.2390 - val_accuracy: 0.9147\n",
            "Epoch 96/100\n",
            "1678/1678 [==============================] - 7s 4ms/step - loss: 0.2338 - accuracy: 0.9150 - val_loss: 0.2391 - val_accuracy: 0.9149\n",
            "Epoch 97/100\n",
            "1678/1678 [==============================] - 7s 4ms/step - loss: 0.2336 - accuracy: 0.9148 - val_loss: 0.2406 - val_accuracy: 0.9141\n",
            "Epoch 98/100\n",
            "1678/1678 [==============================] - 7s 4ms/step - loss: 0.2336 - accuracy: 0.9146 - val_loss: 0.2404 - val_accuracy: 0.9146\n",
            "Epoch 99/100\n",
            "1678/1678 [==============================] - 7s 4ms/step - loss: 0.2339 - accuracy: 0.9149 - val_loss: 0.2401 - val_accuracy: 0.9136\n",
            "Epoch 100/100\n",
            "1678/1678 [==============================] - 7s 4ms/step - loss: 0.2338 - accuracy: 0.9149 - val_loss: 0.2395 - val_accuracy: 0.9153\n"
          ]
        }
      ]
    },
    {
      "cell_type": "code",
      "source": [
        "# Experiment entry for logging the neural network\n",
        "experiment_nn = Experiment(\n",
        "    api_key=API_KEY,\n",
        "    project_name=PROJECT_NAME,\n",
        "    workspace=WORKSPACE\n",
        ")\n",
        "path = '\\\\'.join(str(os.getcwd()).split('\\\\')[:-2])\n",
        "model_path = os.path.join(path, 'models')\n",
        "filename = model_path + 'neural_network.h5'\n",
        "model.save(filename)\n",
        "experiment_nn.log_model(\"Neural_Network\", filename)\n",
        "# Plot the accuracy graph\n",
        "%matplotlib inline\n",
        "import matplotlib.pyplot as plt\n",
        "plt.title('Training and Val Accuracy Plot')\n",
        "plt.plot(history.history['val_accuracy'], label='Val Accuracy')\n",
        "plt.plot(history.history['accuracy'], label='Train Accuracy')\n",
        "plt.legend()\n",
        "experiment_nn.log_figure(figure_name=\"Accuracy Curve Neural Network\", \n",
        "                         overwrite=False, step=None)\n",
        "plt.show()"
      ],
      "metadata": {
        "colab": {
          "base_uri": "https://localhost:8080/",
          "height": 718
        },
        "id": "0j7OcAsUsHia",
        "outputId": "0f97597b-e15b-4f4e-d1bc-cca0f2840f42"
      },
      "execution_count": null,
      "outputs": [
        {
          "output_type": "stream",
          "name": "stderr",
          "text": [
            "COMET WARNING: Comet has disabled auto-logging functionality as it has been imported after the following ML modules: keras, sklearn, lightgbm, tensorboard, tensorflow. Metrics and hyperparameters can still be logged using comet_ml.log_metrics() and comet_ml.log_parameters()\n",
            "COMET INFO: ---------------------------\n",
            "COMET INFO: Comet.ml Experiment Summary\n",
            "COMET INFO: ---------------------------\n",
            "COMET INFO:   Data:\n",
            "COMET INFO:     display_summary_level : 1\n",
            "COMET INFO:     url                   : https://www.comet.com/anshitasaxena/milestone-project-2/69f92d4c35bc41508edfd2dfc880e41a\n",
            "COMET INFO:   Others:\n",
            "COMET INFO:     notebook_url : https://colab.research.google.com/notebook#fileId=1ZY4TP_1tQ48Vx0E-aCE5kklUsWKQo0Zc\n",
            "COMET INFO:   Uploads:\n",
            "COMET INFO:     environment details : 1\n",
            "COMET INFO:     filename            : 1\n",
            "COMET INFO:     installed packages  : 1\n",
            "COMET INFO:     model-element       : 1 (28.80 KB)\n",
            "COMET INFO:     notebook            : 2\n",
            "COMET INFO:     os packages         : 1\n",
            "COMET INFO:     source_code         : 1\n",
            "COMET INFO: ---------------------------\n",
            "COMET WARNING: Comet has disabled auto-logging functionality as it has been imported after the following ML modules: keras, sklearn, lightgbm, tensorboard, tensorflow. Metrics and hyperparameters can still be logged using comet_ml.log_metrics() and comet_ml.log_parameters()\n",
            "COMET WARNING: As you are running in a Jupyter environment, you will need to call `experiment.end()` when finished to ensure all metrics and code are logged before exiting.\n",
            "COMET ERROR: Failed to calculate active processors count. Fall back to default CPU count 1\n",
            "COMET INFO: Couldn't find a Git repository in '/content' nor in any parent directory. You can override where Comet is looking for a Git Patch by setting the configuration `COMET_GIT_DIRECTORY`\n",
            "COMET INFO: Experiment is live on comet.com https://www.comet.com/anshitasaxena/milestone-project-2/2293637ebf3241f2af343b27d683c694\n",
            "\n"
          ]
        },
        {
          "output_type": "display_data",
          "data": {
            "text/plain": [
              "<Figure size 432x288 with 1 Axes>"
            ],
            "image/png": "[encoded data removed]"
          },
          "metadata": {
            "needs_background": "light"
          }
        }
      ]
    },
    {
      "cell_type": "code",
      "source": [
        "# Plot the loss graph\n",
        "plt.title('Training and Val Loss Plot')\n",
        "plt.plot(history.history['val_loss'], label='Val Loss')\n",
        "plt.plot(history.history['loss'], label='Train Loss')\n",
        "plt.legend()\n",
        "experiment_nn.log_figure(figure_name=\"Loss Curve Neural Network\", \n",
        "                         overwrite=False, step=None)\n",
        "plt.show()"
      ],
      "metadata": {
        "colab": {
          "base_uri": "https://localhost:8080/",
          "height": 281
        },
        "id": "_e-XxVNmuYPO",
        "outputId": "0f39b11c-a88a-46e5-f2f6-6b1bab4b4987"
      },
      "execution_count": null,
      "outputs": [
        {
          "output_type": "display_data",
          "data": {
            "text/plain": [
              "<Figure size 432x288 with 1 Axes>"
            ],
            "image/png": "[encoded data removed]"
          },
          "metadata": {
            "needs_background": "light"
          }
        }
      ]
    },
    {
      "cell_type": "code",
      "source": [
        "# Evaluate the model\n",
        "model_loss, model_accuracy = model.evaluate(X_test_scaled, y_test, verbose=2)\n",
        "experiment_nn.log_metric(\"Neural Network accuracy: \", model_accuracy)\n",
        "print(f\"Loss: {model_loss}, Accuracy: {model_accuracy}\")"
      ],
      "metadata": {
        "colab": {
          "base_uri": "https://localhost:8080/"
        },
        "id": "3mjXfWWluaw3",
        "outputId": "9b581554-8e52-46b7-ca41-dfbbd50fb5ee"
      },
      "execution_count": null,
      "outputs": [
        {
          "output_type": "stream",
          "name": "stdout",
          "text": [
            "1864/1864 - 3s - loss: 0.2367 - accuracy: 0.9148 - 3s/epoch - 2ms/step\n",
            "Loss: 0.2367246150970459, Accuracy: 0.9147844314575195\n"
          ]
        }
      ]
    },
    {
      "cell_type": "code",
      "source": [
        "# Store the prediction probabilities of goal rate\n",
        "probs = model.predict(X_test_scaled)\n",
        "predictions = np.round(probs)"
      ],
      "metadata": {
        "colab": {
          "base_uri": "https://localhost:8080/"
        },
        "id": "ulb28xJJ7Qqx",
        "outputId": "91cb0363-59ca-4ce8-afdd-8c9ec27c7c49"
      },
      "execution_count": null,
      "outputs": [
        {
          "output_type": "stream",
          "name": "stdout",
          "text": [
            "1864/1864 [==============================] - 3s 1ms/step\n"
          ]
        }
      ]
    },
    {
      "cell_type": "code",
      "source": [
        "# Plot AUC ROC Curve\n",
        "fpr, tpr, _ = roc_curve(y_test, predictions)\n",
        "roc_auc = auc(fpr, tpr)# generate a no skill prediction (majority class)\n",
        "# Source: https://machinelearningmastery.com/roc-curves-and-precision-recall-curves-for-classification-in-python/\n",
        "ns_probs = [0 for _ in range(len(y_test))]\n",
        "# calculate scores\n",
        "ns_auc = roc_auc_score(y_test, ns_probs)\n",
        "nn_auc = roc_auc_score(y_test, probs)\n",
        "# summarize scores\n",
        "print('No Skill: ROC AUC=%.3f' % (ns_auc))\n",
        "print('Neural Network: ROC AUC=%.3f' % (nn_auc))\n",
        "# calculate roc curves\n",
        "plt.figure(figsize=(7, 5))\n",
        "ns_fpr, ns_tpr, _ = roc_curve(y_test, ns_probs)\n",
        "nn_fpr, nn_tpr, _ = roc_curve(y_test, probs)\n",
        "# plot the roc curve for the model\n",
        "plt.plot(ns_fpr, ns_tpr, linestyle='--', label='No Skill', color='green')\n",
        "plt.plot(nn_fpr, nn_tpr, linestyle='-', label='Neural Network', color='red')\n",
        "# axis labels\n",
        "plt.xlabel('False Positive Rate')\n",
        "plt.ylabel('True Positive Rate')\n",
        "# show the legend\n",
        "plt.legend()\n",
        "# show the plot\n",
        "experiment_nn.log_figure(figure_name=\"AUC_ROC Neural Network\", \n",
        "                         overwrite=False, step=None)\n",
        "plt.show()"
      ],
      "metadata": {
        "colab": {
          "base_uri": "https://localhost:8080/",
          "height": 369
        },
        "id": "AC4fZbeF2GpS",
        "outputId": "de23d896-ff12-41fb-cc65-9891e138889a"
      },
      "execution_count": null,
      "outputs": [
        {
          "output_type": "stream",
          "name": "stdout",
          "text": [
            "No Skill: ROC AUC=0.500\n",
            "Neural Network: ROC AUC=0.832\n"
          ]
        },
        {
          "output_type": "display_data",
          "data": {
            "text/plain": [
              "<Figure size 504x360 with 1 Axes>"
            ],
            "image/png": "[encoded data removed]"
          },
          "metadata": {
            "needs_background": "light"
          }
        }
      ]
    },
    {
      "cell_type": "code",
      "source": [
        "# Plotting Goal Rate versus Shot Probability Percentile\n",
        "# Convert 2-D to 1-D series\n",
        "new_series = np.array(y_test)\n",
        "new_series = np.reshape(new_series, (new_series.shape[0]))\n",
        "\n",
        "# Scale true_probabilities (predict_proba() returns true and false both) on percentile\n",
        "true_prob = pd.DataFrame()\n",
        "true_prob['true_target'] = np.array(new_series)\n",
        "percentile = [[np.percentile(probs, i), np.percentile(probs, i+5)] \n",
        "              for i in range(0,100,5)]\n",
        "total_goal = np.sum(new_series)\n",
        "# print(percentile)\n",
        "\n",
        "# Looping on probabilities to check their percentiles with their status as goal/shot\n",
        "goal_probability = []\n",
        "# print(true_prob.shape)\n",
        "for i in range(0, len(percentile)):\n",
        "    # Check the interval of probability in percentile and calculate the number of goals\n",
        "    true_prob_percentile = true_prob[(probs<=percentile[i][1]) & (probs>percentile[i][0])]\n",
        "    goals = true_prob_percentile.loc[true_prob_percentile['true_target']==1].shape[0]\n",
        "    # Check the interval of probability in percentile and calculate the number of no goals (or shots)\n",
        "    no_goals = true_prob_percentile.loc[true_prob_percentile['true_target']==0].shape[0]\n",
        "    # If no goal, do nothing, calculate the formula if goal\n",
        "    if goals == 0:\n",
        "        goal_probability.append(0)\n",
        "    else:\n",
        "        goal_probability.append((goals*100)/(goals+no_goals))\n",
        "\n",
        "# Axis for percentile\n",
        "shot_prob_model_percentile = np.arange(0, 100, 5)\n",
        "    \n",
        "# Plot of goal rate vs Shot probability percentile\n",
        "fig_goal_rate = plt.figure()\n",
        "sns.set()\n",
        "plt.plot(shot_prob_model_percentile, goal_probability, label='Neural Network')\n",
        "plt.xlim(100, 0)\n",
        "plt.ylim(0, 100)\n",
        "plt.title(\"Goal Rate\")\n",
        "plt.xlabel('Shot probability model percentile', fontsize=14)\n",
        "plt.xticks([0,10,20,30,40,50,60,70,80,90,100])\n",
        "plt.ylabel('Goals / (Shots + Goals)', fontsize=14)\n",
        "y_axis = [-1,0,10,20,30,40,50,60,70,80,90,100]\n",
        "y_values = ['0%','10%','20%','30%','40%','50%','60%','70%','80%','90%','100%']\n",
        "plt.yticks(y_axis, y_values)\n",
        "plt.legend()\n",
        "experiment_nn.log_figure(figure_name=\"Goal Rate versus Shot Probability Model Percentile Neural Network\", \n",
        "                         overwrite=False, step=None)\n",
        "plt.show()"
      ],
      "metadata": {
        "colab": {
          "base_uri": "https://localhost:8080/",
          "height": 302
        },
        "id": "t3fnTTyP77sH",
        "outputId": "3a35d52e-2aea-4289-b547-8d85db659083"
      },
      "execution_count": null,
      "outputs": [
        {
          "output_type": "display_data",
          "data": {
            "text/plain": [
              "<Figure size 432x288 with 1 Axes>"
            ],
            "image/png": "[encoded data removed]"
          },
          "metadata": {
            "needs_background": "light"
          }
        }
      ]
    },
    {
      "cell_type": "code",
      "source": [
        "# Plotting Cumulative Percentage goals versus Proportion\n",
        "# Convert 2-D to 1-D series\n",
        "new_series = np.array(y_test)\n",
        "new_series = np.reshape(new_series, (new_series.shape[0]))\n",
        "\n",
        "# Scale true_probabilities (predict_proba() returns true and false both) on percentile\n",
        "true_prob = pd.DataFrame()\n",
        "true_prob['true_target'] = np.array(new_series)\n",
        "percentile = [[np.percentile(probs, i), np.percentile(probs, i+1)] \n",
        "              for i in range(0,100,1)]\n",
        "total_goal = np.sum(new_series)\n",
        "\n",
        "# Looping on probabilities to check their percentiles with their status as goal/shot\n",
        "cum_prop = []\n",
        "for i in range(0, len(percentile)-1):\n",
        "    # We need previous and current goal lie in the percentile\n",
        "    true_prob_percentile = true_prob[(probs>=percentile[i][0])]\n",
        "    goals = true_prob_percentile.loc[true_prob_percentile['true_target']==1].shape[0]\n",
        "    # If no goal, do nothing, calculate the formula if goal\n",
        "    cum_prop.append(goals*100/total_goal)\n",
        "cum_prop.append(0)\n",
        "\n",
        "# Axis for percentile\n",
        "shot_prob_model_percentile = np.arange(0, 100, 1)\n",
        "    \n",
        "# Plot of cumulative frequency vs Shot probability percentile\n",
        "fig_cum_shot = plt.figure()\n",
        "sns.set()\n",
        "plt.plot(shot_prob_model_percentile, cum_prop, label='Neural Network')\n",
        "plt.xlim(100, 0)\n",
        "plt.ylim(0, 100)\n",
        "plt.title(\"Cumulative % of goals\")\n",
        "plt.xlabel('Shot probability model percentile', fontsize=14)\n",
        "plt.xticks([0,10,20,30,40,50,60,70,80,90,100])\n",
        "plt.ylabel('Proportion', fontsize=14)\n",
        "y_axis = [0,10,20,30,40,50,60,70,80,90,100,101]\n",
        "y_values = ['0%','10%','20%','30%','40%','50%','60%','70%','80%','90%','100%']\n",
        "plt.yticks(y_axis, y_values)\n",
        "plt.legend(loc='upper left')\n",
        "experiment_nn.log_figure(figure_name=\"Cumulative Shot Probability Neural Network\", \n",
        "                         overwrite=False, step=None)\n",
        "plt.show()"
      ],
      "metadata": {
        "colab": {
          "base_uri": "https://localhost:8080/",
          "height": 302
        },
        "id": "xcupsv2XOG_w",
        "outputId": "5af3886d-c90d-4aec-890d-f285f9cbfd3e"
      },
      "execution_count": null,
      "outputs": [
        {
          "output_type": "display_data",
          "data": {
            "text/plain": [
              "<Figure size 432x288 with 1 Axes>"
            ],
            "image/png": "[encoded data removed]"
          },
          "metadata": {}
        }
      ]
    },
    {
      "cell_type": "code",
      "source": [
        "# Plotted Caliberated Curves for checking the reliability\n",
        "prob_true, prob_pred = calibration_curve(y_test, probs, n_bins=10)\n",
        "plt.rcParams[\"figure.figsize\"] = (8,5)\n",
        "fig_cal1 = plt.figure()\n",
        "disp1 = CalibrationDisplay(prob_true, prob_pred, probs)\n",
        "# disp1.savefig(\"Calibration Curve or Reliability 1 Diagram Base.png\")\n",
        "plt1 = disp1.plot(label='Neural Network')\n",
        "plt.title(\"Calibration Curve/Reliability Diagram\")\n",
        "experiment_nn.log_figure(figure_name=\"Caliberative Curve 1 Neural Network\", \n",
        "                        overwrite=False, step=None)\n",
        "\n",
        "fig_cal3 = plt.figure()\n",
        "disp3 = CalibrationDisplay.from_predictions(y_test, probs, name='Neural Network')\n",
        "plt.title(\"Calibration Curve/Reliability Diagram\")\n",
        "plt.legend(loc='upper left')\n",
        "experiment_nn.log_figure(figure_name=\"Caliberative Curve 2 Neural Network\", \n",
        "                        overwrite=False, step=None)\n",
        "plt.show()\n",
        "caliberation_display_neural = [y_test, probs, 'neural_network']"
      ],
      "metadata": {
        "colab": {
          "base_uri": "https://localhost:8080/",
          "height": 728
        },
        "id": "A1UNK3k3PT7z",
        "outputId": "1169fa95-e7be-4d3c-a2be-265d628ef223"
      },
      "execution_count": null,
      "outputs": [
        {
          "output_type": "display_data",
          "data": {
            "text/plain": [
              "<Figure size 576x360 with 0 Axes>"
            ]
          },
          "metadata": {}
        },
        {
          "output_type": "display_data",
          "data": {
            "text/plain": [
              "<Figure size 576x360 with 1 Axes>"
            ],
            "image/png": "[encoded data removed]"
          },
          "metadata": {}
        },
        {
          "output_type": "display_data",
          "data": {
            "text/plain": [
              "<Figure size 576x360 with 0 Axes>"
            ]
          },
          "metadata": {}
        },
        {
          "output_type": "display_data",
          "data": {
            "text/plain": [
              "<Figure size 576x360 with 1 Axes>"
            ],
            "image/png": "[encoded data removed]"
          },
          "metadata": {}
        }
      ]
    },
    {
      "cell_type": "code",
      "source": [
        "experiment_nn.end()"
      ],
      "metadata": {
        "colab": {
          "base_uri": "https://localhost:8080/"
        },
        "id": "9X554bp33kt8",
        "outputId": "d0e4f872-bf54-4e0c-ea5d-fef4c439d007"
      },
      "execution_count": null,
      "outputs": [
        {
          "output_type": "stream",
          "name": "stderr",
          "text": [
            "COMET INFO: ---------------------------\n",
            "COMET INFO: Comet.ml Experiment Summary\n",
            "COMET INFO: ---------------------------\n",
            "COMET INFO:   Data:\n",
            "COMET INFO:     display_summary_level : 1\n",
            "COMET INFO:     url                   : https://www.comet.com/anshitasaxena/milestone-project-2/2293637ebf3241f2af343b27d683c694\n",
            "COMET INFO:   Metrics:\n",
            "COMET INFO:     Neural Network accuracy:  : 0.9147844314575195\n",
            "COMET INFO:   Others:\n",
            "COMET INFO:     notebook_url : https://colab.research.google.com/notebook#fileId=1ZY4TP_1tQ48Vx0E-aCE5kklUsWKQo0Zc\n",
            "COMET INFO:   Uploads:\n",
            "COMET INFO:     environment details : 1\n",
            "COMET INFO:     figures             : 7\n",
            "COMET INFO:     filename            : 1\n",
            "COMET INFO:     installed packages  : 1\n",
            "COMET INFO:     model-element       : 1 (28.80 KB)\n",
            "COMET INFO:     notebook            : 2\n",
            "COMET INFO:     os packages         : 1\n",
            "COMET INFO:     source_code         : 1\n",
            "COMET INFO: ---------------------------\n",
            "COMET WARNING: Comet has disabled auto-logging functionality as it has been imported after the following ML modules: keras, sklearn, lightgbm, tensorboard, tensorflow. Metrics and hyperparameters can still be logged using comet_ml.log_metrics() and comet_ml.log_parameters()\n",
            "COMET INFO: Uploading metrics, params, and assets to Comet before program termination (may take several seconds)\n",
            "COMET INFO: The Python SDK has 3600 seconds to finish before aborting...\n"
          ]
        }
      ]
    },
    {
      "cell_type": "markdown",
      "source": [
        "Light GBM"
      ],
      "metadata": {
        "id": "vtjuvvjdyZrM"
      }
    },
    {
      "cell_type": "code",
      "source": [
        "# Splitting and standardizing the dataset\n",
        "X_train, X_test, Y_train, y_test = dataset_split(transformed_X[final_feature_selected_list], y_numeric)\n",
        "X_train_scaled, X_test_scaled = dataset_standardization(X_train)"
      ],
      "metadata": {
        "id": "hX_tvXSKDj-X"
      },
      "execution_count": null,
      "outputs": []
    },
    {
      "cell_type": "code",
      "source": [
        "# Running the LGBM Classifier for hyperparameter tuning\n",
        "lgbm_mdl = LGBMClassifier(objective=\"binary\" ,class_weight={0:0.2,1:0.8,},\n",
        "                       metric=\"auc\", random_state=42\n",
        "                      )\n",
        "params = {'min_gain_to_split':[0.1, 0.3, 0.5, 0.6],\"reg_alpha\" :[0.4, 1],\n",
        "\"reg_lambda\" : [0.7, 1],}\n",
        "model = RandomizedSearchCV(lgbm_mdl, params, random_state=42, cv=5)\n",
        "Y_train = np.ravel(Y_train)\n",
        "model.fit(X_train_scaled, Y_train)"
      ],
      "metadata": {
        "colab": {
          "base_uri": "https://localhost:8080/"
        },
        "id": "riu2o-kqytNm",
        "outputId": "ca03e30b-e107-4f98-f65d-4ec992421ac3"
      },
      "execution_count": null,
      "outputs": [
        {
          "output_type": "execute_result",
          "data": {
            "text/plain": [
              "RandomizedSearchCV(cv=5,\n",
              "                   estimator=LGBMClassifier(class_weight={0: 0.2, 1: 0.8},\n",
              "                                            metric='auc', objective='binary',\n",
              "                                            random_state=42),\n",
              "                   param_distributions={'min_gain_to_split': [0.1, 0.3, 0.5,\n",
              "                                                              0.6],\n",
              "                                        'reg_alpha': [0.4, 1],\n",
              "                                        'reg_lambda': [0.7, 1]},\n",
              "                   random_state=42)"
            ]
          },
          "metadata": {},
          "execution_count": 41
        }
      ]
    },
    {
      "cell_type": "code",
      "source": [
        "# Best parameter set for LGBM Classifier\n",
        "print('Best parameters found:\\n', model.best_params_)"
      ],
      "metadata": {
        "colab": {
          "base_uri": "https://localhost:8080/"
        },
        "id": "8AfXL7zLPdJ7",
        "outputId": "c7bb4112-ee2b-482a-ce40-f927cb53a835"
      },
      "execution_count": null,
      "outputs": [
        {
          "output_type": "stream",
          "name": "stdout",
          "text": [
            "Best parameters found:\n",
            " {'reg_lambda': 1, 'reg_alpha': 0.4, 'min_gain_to_split': 0.1}\n"
          ]
        }
      ]
    },
    {
      "cell_type": "code",
      "source": [
        "# Run the algorithm for training and prediction\n",
        "model = LGBMClassifier(class_weight={0: 0.2, 1: 0.8}, metric='auc',\n",
        "               min_gain_to_split=0.1, objective='binary', random_state=42,\n",
        "               reg_alpha=0.4, reg_lambda=1)\n",
        "model.fit(X_train_scaled, Y_train)\n",
        "y_pred = model.predict(X_test_scaled)\n",
        "predictions = [round(value) for value in y_pred]\n",
        "accuracy = accuracy_score(y_test, predictions)\n",
        "print(\"Accuracy: %.2f%%\" % (accuracy * 100.0))\n",
        "# Experiment entry for logging the Light GBM\n",
        "experiment_lgbm = Experiment(\n",
        "    api_key=API_KEY,\n",
        "    project_name=PROJECT_NAME,\n",
        "    workspace=WORKSPACE\n",
        ")\n",
        "path = '\\\\'.join(str(os.getcwd()).split('\\\\')[:-2])\n",
        "model_path = os.path.join(path, 'models')\n",
        "filename = model_path + 'light_gbm.pkl'\n",
        "# save model\n",
        "joblib.dump(model, filename)\n",
        "experiment_lgbm.log_model(\"Light_GBM\", filename)\n",
        "experiment_lgbm.log_metric(\"Light GBM accuracy: \", accuracy)\n",
        "y_tr_pred = model.predict(X_train_scaled)\n",
        "lgbm_probs = model.predict_proba(X_test_scaled)\n",
        "probs = lgbm_probs[:, 1]"
      ],
      "metadata": {
        "id": "GrE_t8YwNTLa",
        "colab": {
          "base_uri": "https://localhost:8080/"
        },
        "outputId": "9f8dc70e-7f59-4e0c-c8bf-79f7751ade16"
      },
      "execution_count": null,
      "outputs": [
        {
          "output_type": "stream",
          "name": "stderr",
          "text": [
            "COMET WARNING: Comet has disabled auto-logging functionality as it has been imported after the following ML modules: keras, sklearn, lightgbm, tensorboard, tensorflow. Metrics and hyperparameters can still be logged using comet_ml.log_metrics() and comet_ml.log_parameters()\n"
          ]
        },
        {
          "output_type": "stream",
          "name": "stdout",
          "text": [
            "Accuracy: 86.90%\n"
          ]
        },
        {
          "output_type": "stream",
          "name": "stderr",
          "text": [
            "COMET INFO: ---------------------------\n",
            "COMET INFO: Comet.ml Experiment Summary\n",
            "COMET INFO: ---------------------------\n",
            "COMET INFO:   Data:\n",
            "COMET INFO:     display_summary_level : 1\n",
            "COMET INFO:     url                   : https://www.comet.com/anshitasaxena/milestone-project-2/d8787f8ada134fcf8eeef4468e958f11\n",
            "COMET INFO:   Others:\n",
            "COMET INFO:     notebook_url : https://colab.research.google.com/notebook#fileId=1ZY4TP_1tQ48Vx0E-aCE5kklUsWKQo0Zc\n",
            "COMET INFO:   Uploads:\n",
            "COMET INFO:     environment details : 1\n",
            "COMET INFO:     filename            : 1\n",
            "COMET INFO:     installed packages  : 1\n",
            "COMET INFO:     notebook            : 2\n",
            "COMET INFO:     os packages         : 1\n",
            "COMET INFO:     source_code         : 1\n",
            "COMET INFO: ---------------------------\n",
            "COMET WARNING: Comet has disabled auto-logging functionality as it has been imported after the following ML modules: keras, sklearn, lightgbm, tensorboard, tensorflow. Metrics and hyperparameters can still be logged using comet_ml.log_metrics() and comet_ml.log_parameters()\n",
            "COMET WARNING: As you are running in a Jupyter environment, you will need to call `experiment.end()` when finished to ensure all metrics and code are logged before exiting.\n",
            "COMET ERROR: Failed to calculate active processors count. Fall back to default CPU count 1\n",
            "COMET INFO: Couldn't find a Git repository in '/content' nor in any parent directory. You can override where Comet is looking for a Git Patch by setting the configuration `COMET_GIT_DIRECTORY`\n",
            "COMET INFO: Experiment is live on comet.com https://www.comet.com/anshitasaxena/milestone-project-2/87a4c37a5adc49c19962861cf41a5507\n",
            "\n"
          ]
        }
      ]
    },
    {
      "cell_type": "code",
      "source": [
        "# Plot the confusion matrix\n",
        "# SOURCE: https://vitalflux.com/python-draw-confusion-matrix-matplotlib/\n",
        "# Calculate the confusion matrix\n",
        "conf_matrix = confusion_matrix(y_true=y_test, y_pred=y_pred)\n",
        "print(conf_matrix)\n",
        "fig, ax = plt.subplots(figsize=(7, 5))\n",
        "ax.matshow(conf_matrix, cmap=plt.cm.viridis, alpha=0.2)\n",
        "for i in range(conf_matrix.shape[0]):\n",
        "    for j in range(conf_matrix.shape[1]):\n",
        "        ax.text(x=j, y=i,s=conf_matrix[i, j], va='center', ha='center', size='xx-large')\n",
        "plt.xlabel('Predictions', fontsize=14)\n",
        "plt.ylabel('Actuals', fontsize=14)\n",
        "plt.title('Confusion Matrix', fontsize=16)\n",
        "plt.show()\n",
        "print(type(y_test))\n",
        "print(type(model.predict(X_test_scaled)))\n",
        "experiment_lgbm.log_confusion_matrix(matrix=conf_matrix)"
      ],
      "metadata": {
        "colab": {
          "base_uri": "https://localhost:8080/",
          "height": 491
        },
        "id": "wa8P4Re9Qfb4",
        "outputId": "053e13dd-8854-4fe3-ce25-62d304b0ee38"
      },
      "execution_count": null,
      "outputs": [
        {
          "output_type": "stream",
          "name": "stdout",
          "text": [
            "[[49063  5133]\n",
            " [ 2677  2764]]\n"
          ]
        },
        {
          "output_type": "display_data",
          "data": {
            "text/plain": [
              "<Figure size 504x360 with 1 Axes>"
            ],
            "image/png": "[encoded data removed]"
          },
          "metadata": {}
        },
        {
          "output_type": "stream",
          "name": "stdout",
          "text": [
            "<class 'pandas.core.frame.DataFrame'>\n",
            "<class 'numpy.ndarray'>\n"
          ]
        },
        {
          "output_type": "execute_result",
          "data": {
            "text/plain": [
              "{'web': 'https://www.comet.com/api/asset/download?assetId=31d7053cf4d24f09a757bdb2773fcd49&experimentKey=87a4c37a5adc49c19962861cf41a5507',\n",
              " 'api': 'https://www.comet.com/api/rest/v2/experiment/asset/get-asset?assetId=31d7053cf4d24f09a757bdb2773fcd49&experimentKey=87a4c37a5adc49c19962861cf41a5507',\n",
              " 'assetId': '31d7053cf4d24f09a757bdb2773fcd49'}"
            ]
          },
          "metadata": {},
          "execution_count": 75
        }
      ]
    },
    {
      "cell_type": "code",
      "source": [
        "# Classification Report showing the classification metrics\n",
        "print('Test Classification Report:')\n",
        "print(classification_report(y_test, model.predict(X_test_scaled)))\n",
        "print('Train Classification Report:')\n",
        "print(classification_report(Y_train, model.predict(X_train_scaled)))"
      ],
      "metadata": {
        "colab": {
          "base_uri": "https://localhost:8080/"
        },
        "id": "om_wPFzcSag4",
        "outputId": "3a11087f-6fb4-4052-8b39-2d72c842d58b"
      },
      "execution_count": null,
      "outputs": [
        {
          "output_type": "stream",
          "name": "stdout",
          "text": [
            "Test Classification Report:\n",
            "              precision    recall  f1-score   support\n",
            "\n",
            "           0       0.95      0.91      0.93     54196\n",
            "           1       0.35      0.51      0.41      5441\n",
            "\n",
            "    accuracy                           0.87     59637\n",
            "   macro avg       0.65      0.71      0.67     59637\n",
            "weighted avg       0.89      0.87      0.88     59637\n",
            "\n",
            "Train Classification Report:\n",
            "              precision    recall  f1-score   support\n",
            "\n",
            "           0       0.95      0.91      0.93    216784\n",
            "           1       0.37      0.54      0.44     21764\n",
            "\n",
            "    accuracy                           0.88    238548\n",
            "   macro avg       0.66      0.72      0.69    238548\n",
            "weighted avg       0.90      0.88      0.89    238548\n",
            "\n"
          ]
        }
      ]
    },
    {
      "cell_type": "code",
      "source": [
        "# Plot the feature importances, game_seconds is a strong feature for prediction\n",
        "feature_imp = pd.DataFrame()\n",
        "feature_imp['features'] = X_train.columns\n",
        "feature_imp['imp'] = model.feature_importances_\n",
        "\n",
        "# figure size in inches\n",
        "rcParams['figure.figsize'] = 12,9\n",
        "ax = sns.barplot(x=\"imp\", y=\"features\", data=feature_imp)\n",
        "experiment_lgbm.log_figure(figure_name=\"Bar Plot Light GBM\", \n",
        "                           overwrite=False, step=None)"
      ],
      "metadata": {
        "colab": {
          "base_uri": "https://localhost:8080/",
          "height": 609
        },
        "id": "8DMOMiUQVARq",
        "outputId": "2322281c-c135-47a2-83a3-2a26fe6deafb"
      },
      "execution_count": null,
      "outputs": [
        {
          "output_type": "execute_result",
          "data": {
            "text/plain": [
              "{'web': 'https://www.comet.com/api/image/download?imageId=8437c31cc4e644df81586349e9620587&experimentKey=87a4c37a5adc49c19962861cf41a5507',\n",
              " 'api': 'https://www.comet.com/api/rest/v1/image/get-image?imageId=8437c31cc4e644df81586349e9620587&experimentKey=87a4c37a5adc49c19962861cf41a5507',\n",
              " 'imageId': '8437c31cc4e644df81586349e9620587'}"
            ]
          },
          "metadata": {},
          "execution_count": 62
        },
        {
          "output_type": "display_data",
          "data": {
            "text/plain": [
              "<Figure size 864x648 with 1 Axes>"
            ],
            "image/png": "[encoded data removed]"
          },
          "metadata": {}
        }
      ]
    },
    {
      "cell_type": "code",
      "source": [
        "# Plotting ROC AUC Curve\n",
        "fpr, tpr, _ = roc_curve(y_test, predictions)\n",
        "roc_auc = auc(fpr, tpr)# generate a no skill prediction (majority class)\n",
        "# Source: https://machinelearningmastery.com/roc-curves-and-precision-recall-curves-for-classification-in-python/\n",
        "ns_probs = [0 for _ in range(len(y_test))]\n",
        "# calculate scores\n",
        "ns_auc = roc_auc_score(y_test, ns_probs)\n",
        "lgbm_auc = roc_auc_score(y_test, probs)\n",
        "# summarize scores\n",
        "print('No Skill: ROC AUC=%.3f' % (ns_auc))\n",
        "print('Light GBM: ROC AUC=%.3f' % (lgbm_auc))\n",
        "# calculate roc curves\n",
        "ns_fpr, ns_tpr, _ = roc_curve(y_test, ns_probs)\n",
        "nn_fpr, nn_tpr, _ = roc_curve(y_test, probs)\n",
        "# plot the roc curve for the model\n",
        "plt.figure(figsize=(7, 5))\n",
        "plt.plot(ns_fpr, ns_tpr, linestyle='--', label='No Skill', color='green')\n",
        "plt.plot(nn_fpr, nn_tpr, linestyle='-', label='Light GBM', color='red')\n",
        "# axis labels\n",
        "plt.xlabel('False Positive Rate')\n",
        "plt.ylabel('True Positive Rate')\n",
        "# show the legend\n",
        "plt.legend()\n",
        "# show the plot\n",
        "plt.show()\n",
        "experiment_lgbm.log_figure(figure_name=\"AUC ROC Light GBM\", \n",
        "                           overwrite=False, step=None)"
      ],
      "metadata": {
        "colab": {
          "base_uri": "https://localhost:8080/",
          "height": 426
        },
        "id": "XpIVetE3R3l-",
        "outputId": "42c69bc7-3a4e-470f-c5ee-72eb9bd267c5"
      },
      "execution_count": null,
      "outputs": [
        {
          "output_type": "stream",
          "name": "stdout",
          "text": [
            "No Skill: ROC AUC=0.500\n",
            "Light GBM: ROC AUC=0.847\n"
          ]
        },
        {
          "output_type": "display_data",
          "data": {
            "text/plain": [
              "<Figure size 504x360 with 1 Axes>"
            ],
            "image/png": "[encoded data removed]"
          },
          "metadata": {}
        },
        {
          "output_type": "stream",
          "name": "stderr",
          "text": [
            "COMET WARNING: Refuse to upload empty figure, please call log_figure before calling show\n",
            "COMET WARNING: Failing to save the matplotlib figure\n"
          ]
        },
        {
          "output_type": "display_data",
          "data": {
            "text/plain": [
              "<Figure size 864x648 with 0 Axes>"
            ]
          },
          "metadata": {}
        }
      ]
    },
    {
      "cell_type": "code",
      "source": [
        "# Plotting Goal Rate versus Shot probability model percentile\n",
        "# Convert 2-D to 1-D series\n",
        "new_series = np.array(y_test)\n",
        "new_series = np.reshape(new_series, (new_series.shape[0]))\n",
        "\n",
        "# Scale true_probabilities (predict_proba() returns true and false both) on percentile\n",
        "true_prob = pd.DataFrame()\n",
        "true_prob['true_target'] = np.array(new_series)\n",
        "percentile = [[np.percentile(probs, i), np.percentile(probs, i+5)] \n",
        "              for i in range(0,100,5)]\n",
        "total_goal = np.sum(new_series)\n",
        "# print(percentile)\n",
        "\n",
        "# Looping on probabilities to check their percentiles with their status as goal/shot\n",
        "goal_probability = []\n",
        "# print(true_prob.shape)\n",
        "for i in range(0, len(percentile)):\n",
        "    # Check the interval of probability in percentile and calculate the number of goals\n",
        "    true_prob_percentile = true_prob[(probs<=percentile[i][1]) & (probs>percentile[i][0])]\n",
        "    goals = true_prob_percentile.loc[true_prob_percentile['true_target']==1].shape[0]\n",
        "    # Check the interval of probability in percentile and calculate the number of no goals (or shots)\n",
        "    no_goals = true_prob_percentile.loc[true_prob_percentile['true_target']==0].shape[0]\n",
        "    # If no goal, do nothing, calculate the formula if goal\n",
        "    if goals == 0:\n",
        "        goal_probability.append(0)\n",
        "    else:\n",
        "        goal_probability.append((goals*100)/(goals+no_goals))\n",
        "\n",
        "# Axis for percentile\n",
        "shot_prob_model_percentile = np.arange(0, 100, 5)\n",
        "    \n",
        "# Plot of goal rate vs Shot probability percentile\n",
        "fig_goal_rate = plt.figure(figsize=(7, 5))\n",
        "sns.set()\n",
        "plt.plot(shot_prob_model_percentile, goal_probability, label='Light GBM')\n",
        "plt.xlim(100, 0)\n",
        "plt.ylim(0, 100)\n",
        "plt.title(\"Goal Rate\")\n",
        "plt.xlabel('Shot probability model percentile', fontsize=14)\n",
        "plt.xticks([0,10,20,30,40,50,60,70,80,90,100])\n",
        "plt.ylabel('Goals / (Shots + Goals)', fontsize=14)\n",
        "y_axis = [-1,0,10,20,30,40,50,60,70,80,90,100]\n",
        "y_values = ['0%','10%','20%','30%','40%','50%','60%','70%','80%','90%','100%']\n",
        "plt.yticks(y_axis, y_values)\n",
        "plt.legend()\n",
        "experiment_lgbm.log_figure(figure_name=\"Goal versus Shot Probability Model Percentile Light GBM\", \n",
        "                           overwrite=False, step=None)"
      ],
      "metadata": {
        "colab": {
          "base_uri": "https://localhost:8080/",
          "height": 408
        },
        "id": "adJTDEevUzuK",
        "outputId": "cbe7edba-9071-4797-f0a9-1606fe7446a5"
      },
      "execution_count": null,
      "outputs": [
        {
          "output_type": "execute_result",
          "data": {
            "text/plain": [
              "{'web': 'https://www.comet.com/api/image/download?imageId=14f3f366107e40d482736d99757b3bf2&experimentKey=87a4c37a5adc49c19962861cf41a5507',\n",
              " 'api': 'https://www.comet.com/api/rest/v1/image/get-image?imageId=14f3f366107e40d482736d99757b3bf2&experimentKey=87a4c37a5adc49c19962861cf41a5507',\n",
              " 'imageId': '14f3f366107e40d482736d99757b3bf2'}"
            ]
          },
          "metadata": {},
          "execution_count": 64
        },
        {
          "output_type": "display_data",
          "data": {
            "text/plain": [
              "<Figure size 504x360 with 1 Axes>"
            ],
            "image/png": "[encoded data removed]"
          },
          "metadata": {}
        }
      ]
    },
    {
      "cell_type": "code",
      "source": [
        "# Plot the cumulative proportion of goals\n",
        "# Convert 2-D to 1-D series\n",
        "new_series = np.array(y_test)\n",
        "new_series = np.reshape(new_series, (new_series.shape[0]))\n",
        "\n",
        "# Scale true_probabilities (predict_proba() returns true and false both) on percentile\n",
        "true_prob = pd.DataFrame()\n",
        "true_prob['true_target'] = np.array(new_series)\n",
        "percentile = [[np.percentile(probs, i), np.percentile(probs, i+1)] \n",
        "              for i in range(0,100,1)]\n",
        "total_goal = np.sum(new_series)\n",
        "\n",
        "# Looping on probabilities to check their percentiles with their status as goal/shot\n",
        "cum_prop = []\n",
        "for i in range(0, len(percentile)-1):\n",
        "    # We need previous and current goal lie in the percentile\n",
        "    true_prob_percentile = true_prob[(probs>=percentile[i][0])]\n",
        "    goals = true_prob_percentile.loc[true_prob_percentile['true_target']==1].shape[0]\n",
        "    # If no goal, do nothing, calculate the formula if goal\n",
        "    cum_prop.append(goals*100/total_goal)\n",
        "cum_prop.append(0)\n",
        "\n",
        "# Axis for percentile\n",
        "shot_prob_model_percentile = np.arange(0, 100, 1)\n",
        "    \n",
        "# Plot of cumulative frequency vs Shot probability percentile\n",
        "fig_cum_shot = plt.figure(figsize=(7, 5))\n",
        "sns.set()\n",
        "plt.plot(shot_prob_model_percentile, cum_prop, label='Light GBM')\n",
        "plt.xlim(100, 0)\n",
        "plt.ylim(0, 100)\n",
        "plt.title(\"Cumulative % of goals\")\n",
        "plt.xlabel('Shot probability model percentile', fontsize=14)\n",
        "plt.xticks([0,10,20,30,40,50,60,70,80,90,100])\n",
        "plt.ylabel('Proportion', fontsize=14)\n",
        "y_axis = [0,10,20,30,40,50,60,70,80,90,100,101]\n",
        "y_values = ['0%','10%','20%','30%','40%','50%','60%','70%','80%','90%','100%']\n",
        "plt.yticks(y_axis, y_values)\n",
        "plt.legend(loc='upper left')\n",
        "experiment_lgbm.log_figure(figure_name=\"Cumulative Proportion of Goals Light GBM\", \n",
        "                           overwrite=False, step=None)\n",
        "plt.show()"
      ],
      "metadata": {
        "colab": {
          "base_uri": "https://localhost:8080/",
          "height": 356
        },
        "id": "aq5QDim2W15x",
        "outputId": "a9f6dd9f-643c-4207-e0f4-548416afdde2"
      },
      "execution_count": null,
      "outputs": [
        {
          "output_type": "display_data",
          "data": {
            "text/plain": [
              "<Figure size 504x360 with 1 Axes>"
            ],
            "image/png": "[encoded data removed]"
          },
          "metadata": {}
        }
      ]
    },
    {
      "cell_type": "code",
      "source": [
        "# Plot reliability curves\n",
        "prob_true, prob_pred = calibration_curve(y_test, probs, n_bins=10)\n",
        "plt.rcParams[\"figure.figsize\"] = (8,5)\n",
        "disp1 = CalibrationDisplay(prob_true, prob_pred, probs)\n",
        "# disp1.savefig(\"Calibration Curve or Reliability 1 Diagram Base.png\")\n",
        "plt1 = disp1.plot(label='Light GBM')\n",
        "plt.title(\"Calibration Curve/Reliability Diagram\")\n",
        "experiment_lgbm.log_figure(figure_name=\"Caliberative Curve 1 Light GBM\", \n",
        "                           overwrite=False, step=None)\n",
        "\n",
        "disp2 = CalibrationDisplay.from_estimator(model, X_test_scaled, y_test)\n",
        "plt.title(\"Calibration Curve/Reliability Diagram\")\n",
        "plt.legend(loc='upper left')\n",
        "experiment_lgbm.log_figure(figure_name=\"Caliberative Curve 2 Light GBM\", \n",
        "                           overwrite=False, step=None)\n",
        "plt.show()\n",
        "\n",
        "disp3 = CalibrationDisplay.from_predictions(y_test, probs, name='Light GBM')\n",
        "plt.title(\"Calibration Curve/Reliability Diagram\")\n",
        "plt.legend(loc='upper left')\n",
        "experiment_lgbm.log_figure(figure_name=\"Caliberative Curve 3 Light GBM\", \n",
        "                           overwrite=False, step=None)\n",
        "plt.show()\n",
        "caliberation_display_lightgbm = [y_test, probs, 'light_gbm']"
      ],
      "metadata": {
        "colab": {
          "base_uri": "https://localhost:8080/",
          "height": 1000
        },
        "id": "Y6uXHdxwXRgW",
        "outputId": "74e8a5ed-8487-444c-fc59-4e45e9cc0fc6"
      },
      "execution_count": null,
      "outputs": [
        {
          "output_type": "display_data",
          "data": {
            "text/plain": [
              "<Figure size 576x360 with 1 Axes>"
            ],
            "image/png": "[encoded data removed]"
          },
          "metadata": {}
        },
        {
          "output_type": "display_data",
          "data": {
            "text/plain": [
              "<Figure size 576x360 with 1 Axes>"
            ],
            "image/png": "[encoded data removed]"
          },
          "metadata": {}
        },
        {
          "output_type": "display_data",
          "data": {
            "text/plain": [
              "<Figure size 576x360 with 1 Axes>"
            ],
            "image/png": "[encoded data removed]"
          },
          "metadata": {}
        }
      ]
    },
    {
      "cell_type": "code",
      "source": [
        "# Plot the reliability caliberative curve comparison between neural network and LGBM\n",
        "caliberation_list = []\n",
        "caliberation_list.append(caliberation_display_neural)\n",
        "caliberation_list.append(caliberation_display_lightgbm)\n",
        "\n",
        "from matplotlib.gridspec import GridSpec\n",
        "fig = plt.figure(figsize=(10, 10))\n",
        "gs = GridSpec(4, 2)\n",
        "colors = plt.cm.get_cmap(\"Dark2\")\n",
        "\n",
        "ax_calibration_curve = fig.add_subplot(gs[:2, :2])\n",
        "calibration_displays = {}\n",
        "for y_test, clf, name in caliberation_list:\n",
        "    display = CalibrationDisplay.from_predictions(\n",
        "        y_test,\n",
        "        clf,\n",
        "        name=name,\n",
        "        n_bins=40,\n",
        "        ax=ax_calibration_curve,\n",
        "        \n",
        "    )\n",
        "    calibration_displays[name] = display\n",
        "\n",
        "ax_calibration_curve.grid()\n",
        "ax_calibration_curve.set_title(\"Calibration plots\")\n",
        "plt.legend(loc='center left', bbox_to_anchor=(1, 0.5))\n",
        "plt.title(\"Reliability diagram\",fontsize=14)\n",
        "experiment_lgbm.log_figure(figure_name=\"Caliberative Curve comparison between Light GBM and Neural Network\", \n",
        "                           overwrite=False, step=None)"
      ],
      "metadata": {
        "colab": {
          "base_uri": "https://localhost:8080/",
          "height": 396
        },
        "id": "QlnVPQfeZ0Un",
        "outputId": "5086ea65-a62b-477c-83c9-7b5d9676ffea"
      },
      "execution_count": null,
      "outputs": [
        {
          "output_type": "execute_result",
          "data": {
            "text/plain": [
              "{'web': 'https://www.comet.com/api/image/download?imageId=45a228ffc13c4eb6908baacc7a247edd&experimentKey=87a4c37a5adc49c19962861cf41a5507',\n",
              " 'api': 'https://www.comet.com/api/rest/v1/image/get-image?imageId=45a228ffc13c4eb6908baacc7a247edd&experimentKey=87a4c37a5adc49c19962861cf41a5507',\n",
              " 'imageId': '45a228ffc13c4eb6908baacc7a247edd'}"
            ]
          },
          "metadata": {},
          "execution_count": 68
        },
        {
          "output_type": "display_data",
          "data": {
            "text/plain": [
              "<Figure size 720x720 with 1 Axes>"
            ],
            "image/png": "[encoded data removed]"
          },
          "metadata": {}
        }
      ]
    },
    {
      "cell_type": "code",
      "source": [
        "experiment_lgbm.end()"
      ],
      "metadata": {
        "colab": {
          "base_uri": "https://localhost:8080/"
        },
        "id": "1bh24EWyQtOU",
        "outputId": "2fa1991e-bf11-4a7e-9dfd-ec5f92dbd7d1"
      },
      "execution_count": null,
      "outputs": [
        {
          "output_type": "stream",
          "name": "stderr",
          "text": [
            "COMET INFO: ---------------------------\n",
            "COMET INFO: Comet.ml Experiment Summary\n",
            "COMET INFO: ---------------------------\n",
            "COMET INFO:   Data:\n",
            "COMET INFO:     display_summary_level : 1\n",
            "COMET INFO:     url                   : https://www.comet.com/anshitasaxena/milestone-project-2/87a4c37a5adc49c19962861cf41a5507\n",
            "COMET INFO:   Metrics:\n",
            "COMET INFO:     Light GBM accuracy:  : 0.8690410315743582\n",
            "COMET INFO:   Others:\n",
            "COMET INFO:     notebook_url : https://colab.research.google.com/notebook#fileId=1ZY4TP_1tQ48Vx0E-aCE5kklUsWKQo0Zc\n",
            "COMET INFO:   Uploads:\n",
            "COMET INFO:     confusion-matrix    : 9\n",
            "COMET INFO:     environment details : 1\n",
            "COMET INFO:     figures             : 7\n",
            "COMET INFO:     filename            : 1\n",
            "COMET INFO:     installed packages  : 1\n",
            "COMET INFO:     model-element       : 1 (262.35 KB)\n",
            "COMET INFO:     notebook            : 2\n",
            "COMET INFO:     os packages         : 1\n",
            "COMET INFO:     source_code         : 1\n",
            "COMET INFO: ---------------------------\n",
            "COMET WARNING: Comet has disabled auto-logging functionality as it has been imported after the following ML modules: keras, sklearn, lightgbm, tensorboard, tensorflow. Metrics and hyperparameters can still be logged using comet_ml.log_metrics() and comet_ml.log_parameters()\n",
            "COMET INFO: Uploading 1 metrics, params and output messages\n"
          ]
        }
      ]
    },
    {
      "cell_type": "code",
      "source": [],
      "metadata": {
        "id": "0xRYruWbnrlJ"
      },
      "execution_count": null,
      "outputs": []
    },
    {
      "cell_type": "markdown",
      "metadata": {
        "id": "wNqBMnPO2FC1"
      },
      "source": [
        "Starting Random Forest Classifier Model"
      ]
    },
    {
      "cell_type": "code",
      "execution_count": null,
      "metadata": {
        "id": "KiSLJRrW15xl"
      },
      "outputs": [],
      "source": [
        "# Splitting and standardizing the dataset\n",
        "X_train, X_test, Y_train, y_test = dataset_split(transformed_X[final_feature_selected_list], y_numeric)\n",
        "X_train_scaled, X_test_scaled = dataset_standardization(X_train)"
      ]
    },
    {
      "cell_type": "code",
      "execution_count": null,
      "metadata": {
        "id": "-zCg3Gxf7eWu"
      },
      "outputs": [],
      "source": [
        "Y_train = np.ravel(Y_train)"
      ]
    },
    {
      "cell_type": "code",
      "execution_count": null,
      "metadata": {
        "colab": {
          "base_uri": "https://localhost:8080/"
        },
        "id": "Vnnsi8J_6ibV",
        "outputId": "efda4d0e-ac45-4d90-d751-60cb1ec3265b"
      },
      "outputs": [
        {
          "data": {
            "text/plain": [
              "RandomForestClassifier(random_state=42)"
            ]
          },
          "execution_count": 24,
          "metadata": {},
          "output_type": "execute_result"
        }
      ],
      "source": [
        "rf_default = RandomForestClassifier(random_state=42)\n",
        "rf_default.fit(X_train_scaled, Y_train)"
      ]
    },
    {
      "cell_type": "code",
      "execution_count": null,
      "metadata": {
        "colab": {
          "base_uri": "https://localhost:8080/"
        },
        "id": "7VUXZLzN-F4B",
        "outputId": "d1aac1c2-d5d7-472d-ab5a-4761647aa87c"
      },
      "outputs": [
        {
          "data": {
            "text/plain": [
              "{'bootstrap': True,\n",
              " 'ccp_alpha': 0.0,\n",
              " 'class_weight': None,\n",
              " 'criterion': 'gini',\n",
              " 'max_depth': None,\n",
              " 'max_features': 'auto',\n",
              " 'max_leaf_nodes': None,\n",
              " 'max_samples': None,\n",
              " 'min_impurity_decrease': 0.0,\n",
              " 'min_samples_leaf': 1,\n",
              " 'min_samples_split': 2,\n",
              " 'min_weight_fraction_leaf': 0.0,\n",
              " 'n_estimators': 100,\n",
              " 'n_jobs': None,\n",
              " 'oob_score': False,\n",
              " 'random_state': 42,\n",
              " 'verbose': 0,\n",
              " 'warm_start': False}"
            ]
          },
          "execution_count": 26,
          "metadata": {},
          "output_type": "execute_result"
        }
      ],
      "source": [
        "rf_default.get_params()"
      ]
    },
    {
      "cell_type": "code",
      "execution_count": null,
      "metadata": {
        "id": "lzoTtXkLA284"
      },
      "outputs": [],
      "source": [
        "rf = RandomForestClassifier(random_state=42)"
      ]
    },
    {
      "cell_type": "code",
      "execution_count": null,
      "metadata": {
        "id": "yRPCrF-Y-PU0"
      },
      "outputs": [],
      "source": [
        "#selecting hyperparameters for tuning the model\n",
        "params =  {\n",
        "    'n_estimators': [50, 100, 200, 500],\n",
        "    'max_depth': [2, 4, 6, 8, 16],\n",
        "    'max_features' : ['auto', 'sqrt', 'log2'],\n",
        "    'min_samples_split': [2, 5, 10],\n",
        "    'min_samples_leaf': [1, 2, 3, 5],\n",
        "    'bootstrap': [True, False],\n",
        "    'criterion' : ['gini', 'entropy'],\n",
        "}"
      ]
    },
    {
      "cell_type": "code",
      "execution_count": null,
      "metadata": {
        "id": "guCcVV25AbyE"
      },
      "outputs": [],
      "source": [
        "model = RandomizedSearchCV(rf, params, random_state=42, cv=5)"
      ]
    },
    {
      "cell_type": "code",
      "execution_count": null,
      "metadata": {
        "id": "N7M28HynBmPA"
      },
      "outputs": [],
      "source": [
        "Y_train = np.ravel(Y_train)"
      ]
    },
    {
      "cell_type": "code",
      "execution_count": null,
      "metadata": {
        "colab": {
          "base_uri": "https://localhost:8080/"
        },
        "id": "ycjhzzYEBoyw",
        "outputId": "1c4a47c6-6c19-4c39-9f9d-38f3e3511a10"
      },
      "outputs": [
        {
          "data": {
            "text/plain": [
              "RandomizedSearchCV(cv=5, estimator=RandomForestClassifier(random_state=42),\n",
              "                   param_distributions={'bootstrap': [True, False],\n",
              "                                        'criterion': ['gini', 'entropy'],\n",
              "                                        'max_depth': [2, 4, 6, 8, 16],\n",
              "                                        'max_features': ['auto', 'sqrt',\n",
              "                                                         'log2'],\n",
              "                                        'min_samples_leaf': [1, 2, 3, 5],\n",
              "                                        'min_samples_split': [2, 5, 10],\n",
              "                                        'n_estimators': [50, 100, 200, 500]},\n",
              "                   random_state=42)"
            ]
          },
          "execution_count": 43,
          "metadata": {},
          "output_type": "execute_result"
        }
      ],
      "source": [
        "model.fit(X_train_scaled, Y_train)"
      ]
    },
    {
      "cell_type": "code",
      "execution_count": null,
      "metadata": {
        "colab": {
          "base_uri": "https://localhost:8080/"
        },
        "id": "s5Wj--pXB9Y9",
        "outputId": "bb50a306-c207-41c5-9d6e-09382c48e343"
      },
      "outputs": [
        {
          "name": "stdout",
          "output_type": "stream",
          "text": [
            "Best parameters found:\n",
            " {'n_estimators': 200, 'min_samples_split': 10, 'min_samples_leaf': 5, 'max_features': 'log2', 'max_depth': 8, 'criterion': 'entropy', 'bootstrap': True}\n"
          ]
        }
      ],
      "source": [
        "# Best parameter set for randomforest Classifier\n",
        "print('Best parameters found:\\n', model.best_params_)"
      ]
    },
    {
      "cell_type": "code",
      "execution_count": null,
      "metadata": {
        "id": "0lQul1uBCfGu"
      },
      "outputs": [],
      "source": [
        "model = RandomForestClassifier(criterion='entropy', max_depth=8, n_estimators=200, \n",
        "                               max_features ='log2',  bootstrap= True,\n",
        "               min_samples_split=10, min_samples_leaf=5, random_state=42)"
      ]
    },
    {
      "cell_type": "code",
      "execution_count": null,
      "metadata": {
        "colab": {
          "base_uri": "https://localhost:8080/"
        },
        "id": "gS3W4y65DsVk",
        "outputId": "cbd8e82f-49d9-44bd-b5bd-2815a2e47a04"
      },
      "outputs": [
        {
          "data": {
            "text/plain": [
              "RandomForestClassifier(criterion='entropy', max_depth=8, max_features='log2',\n",
              "                       min_samples_leaf=5, min_samples_split=10,\n",
              "                       n_estimators=200, random_state=42)"
            ]
          },
          "execution_count": 52,
          "metadata": {},
          "output_type": "execute_result"
        }
      ],
      "source": [
        "model.fit(X_train_scaled, Y_train)"
      ]
    },
    {
      "cell_type": "code",
      "execution_count": null,
      "metadata": {
        "id": "JYH7Lg7QDxrU"
      },
      "outputs": [],
      "source": [
        "y_pred = model.predict(X_test_scaled)"
      ]
    },
    {
      "cell_type": "code",
      "execution_count": null,
      "metadata": {
        "colab": {
          "base_uri": "https://localhost:8080/"
        },
        "id": "F7KcK992D6b-",
        "outputId": "0e0a0dc0-d51d-4bd1-9dc4-6e77884f51d3"
      },
      "outputs": [
        {
          "name": "stdout",
          "output_type": "stream",
          "text": [
            "Accuracy: 91.34%\n"
          ]
        }
      ],
      "source": [
        "predictions = [round(value) for value in y_pred]\n",
        "accuracy = accuracy_score(y_test, predictions)\n",
        "print(\"Accuracy: %.2f%%\" % (accuracy * 100.0))\n",
        "\n",
        "filename = 'randomforest.pkl'\n",
        "# # save model\n",
        "joblib.dump(model, filename)\n",
        "\n",
        "#log experiment in comet.ml\n",
        "experiment.log_model(\"randomforest\", filename)\n",
        "experiment.log_metric(\"randomforest accuracy: \", accuracy)\n",
        "y_tr_pred = model.predict(X_train_scaled)\n",
        "dt_probs = model.predict_proba(X_test_scaled)\n",
        "probs = dt_probs[:, 1]"
      ]
    },
    {
      "cell_type": "code",
      "execution_count": null,
      "metadata": {
        "colab": {
          "base_uri": "https://localhost:8080/"
        },
        "id": "svhcytNtEh_A",
        "outputId": "4dc9923f-b260-4d78-b1b8-2ed683034680"
      },
      "outputs": [
        {
          "name": "stdout",
          "output_type": "stream",
          "text": [
            "[[54196     0]\n",
            " [ 5165   276]]\n",
            "<class 'pandas.core.frame.DataFrame'>\n",
            "<class 'numpy.ndarray'>\n"
          ]
        },
        {
          "data": {
            "text/plain": [
              "{'web': 'https://www.comet.com/api/asset/download?assetId=09f98a281e444834ba078b9a753689a7&experimentKey=bbf64965ddd444dbba743b6ffcb469f0',\n",
              " 'api': 'https://www.comet.com/api/rest/v2/experiment/asset/get-asset?assetId=09f98a281e444834ba078b9a753689a7&experimentKey=bbf64965ddd444dbba743b6ffcb469f0',\n",
              " 'assetId': '09f98a281e444834ba078b9a753689a7'}"
            ]
          },
          "execution_count": 64,
          "metadata": {},
          "output_type": "execute_result"
        }
      ],
      "source": [
        "# Plot the confusion matrix\n",
        "# SOURCE: https://vitalflux.com/python-draw-confusion-matrix-matplotlib/\n",
        "# Calculate the confusion matrix\n",
        "conf_matrix = confusion_matrix(y_true=y_test, y_pred=y_pred)\n",
        "print(conf_matrix)\n",
        "fig, ax = plt.subplots(figsize=(7, 5))\n",
        "ax.matshow(conf_matrix, cmap=plt.cm.viridis, alpha=0.2)\n",
        "for i in range(conf_matrix.shape[0]):\n",
        "    for j in range(conf_matrix.shape[1]):\n",
        "        ax.text(x=j, y=i,s=conf_matrix[i, j], va='center', ha='center', size='xx-large')\n",
        "plt.xlabel('Predictions', fontsize=14)\n",
        "plt.ylabel('Actuals', fontsize=14)\n",
        "plt.title('Confusion Matrix', fontsize=16)\n",
        "plt.show()\n",
        "print(type(y_test))\n",
        "print(type(model.predict(X_test_scaled)))\n",
        "experiment.log_confusion_matrix(matrix=conf_matrix)"
      ]
    },
    {
      "cell_type": "code",
      "execution_count": null,
      "metadata": {
        "colab": {
          "base_uri": "https://localhost:8080/"
        },
        "id": "35sSTIkGGhOs",
        "outputId": "1725ab30-4d28-4a13-cfdf-1f82547d240d"
      },
      "outputs": [
        {
          "name": "stdout",
          "output_type": "stream",
          "text": [
            "Test Classification Report:\n",
            "              precision    recall  f1-score   support\n",
            "\n",
            "           0       0.91      1.00      0.95     54196\n",
            "           1       1.00      0.05      0.10      5441\n",
            "\n",
            "    accuracy                           0.91     59637\n",
            "   macro avg       0.96      0.53      0.53     59637\n",
            "weighted avg       0.92      0.91      0.88     59637\n",
            "\n",
            "Train Classification Report:\n",
            "              precision    recall  f1-score   support\n",
            "\n",
            "           0       0.91      1.00      0.95    216784\n",
            "           1       1.00      0.05      0.10     21764\n",
            "\n",
            "    accuracy                           0.91    238548\n",
            "   macro avg       0.96      0.53      0.53    238548\n",
            "weighted avg       0.92      0.91      0.88    238548\n",
            "\n"
          ]
        }
      ],
      "source": [
        "# Classification Report showing the classification metrics\n",
        "print('Test Classification Report:')\n",
        "print(classification_report(y_test, model.predict(X_test_scaled)))\n",
        "print('Train Classification Report:')\n",
        "print(classification_report(Y_train, model.predict(X_train_scaled)))"
      ]
    },
    {
      "cell_type": "code",
      "execution_count": null,
      "metadata": {
        "colab": {
          "base_uri": "https://localhost:8080/"
        },
        "id": "VVKKitO4IB6c",
        "outputId": "53f8c4ee-3ea3-4b00-ee2f-ac7a7c23b966"
      },
      "outputs": [
        {
          "data": {
            "text/plain": [
              "{'web': 'https://www.comet.com/api/image/download?imageId=3ef75babf6224bc4907e3eaa322c379c&experimentKey=bbf64965ddd444dbba743b6ffcb469f0',\n",
              " 'api': 'https://www.comet.com/api/rest/v1/image/get-image?imageId=3ef75babf6224bc4907e3eaa322c379c&experimentKey=bbf64965ddd444dbba743b6ffcb469f0',\n",
              " 'imageId': '3ef75babf6224bc4907e3eaa322c379c'}"
            ]
          },
          "execution_count": 66,
          "metadata": {},
          "output_type": "execute_result"
        }
      ],
      "source": [
        "# Plot the feature importances, game_seconds is a strong feature for prediction\n",
        "feature_imp = pd.DataFrame()\n",
        "feature_imp['features'] = X_train.columns\n",
        "feature_imp['imp'] = model.feature_importances_\n",
        "\n",
        "# figure size in inches\n",
        "rcParams['figure.figsize'] = 12,9\n",
        "ax = sns.barplot(x=\"imp\", y=\"features\", data=feature_imp)\n",
        "experiment.log_figure(figure_name=\"Bar Plot RandomForest\", \n",
        "                           overwrite=False, step=None)"
      ]
    },
    {
      "cell_type": "code",
      "execution_count": null,
      "metadata": {
        "colab": {
          "base_uri": "https://localhost:8080/"
        },
        "id": "qZtrmx-3IUuL",
        "outputId": "e562c907-d8b2-4f7b-ebd2-977ba82496ce"
      },
      "outputs": [
        {
          "name": "stdout",
          "output_type": "stream",
          "text": [
            "No Skill: ROC AUC=0.500\n",
            "RandomForest: ROC AUC=0.827\n"
          ]
        },
        {
          "data": {
            "text/plain": [
              "{'web': 'https://www.comet.com/api/image/download?imageId=7a8c8fd7ab1c497591068c2824dc6c0c&experimentKey=bbf64965ddd444dbba743b6ffcb469f0',\n",
              " 'api': 'https://www.comet.com/api/rest/v1/image/get-image?imageId=7a8c8fd7ab1c497591068c2824dc6c0c&experimentKey=bbf64965ddd444dbba743b6ffcb469f0',\n",
              " 'imageId': '7a8c8fd7ab1c497591068c2824dc6c0c'}"
            ]
          },
          "execution_count": 67,
          "metadata": {},
          "output_type": "execute_result"
        }
      ],
      "source": [
        "# Plotting ROC AUC Curve\n",
        "fpr, tpr, _ = roc_curve(y_test, predictions)\n",
        "roc_auc = auc(fpr, tpr)# generate a no skill prediction (majority class)\n",
        "# Source: https://machinelearningmastery.com/roc-curves-and-precision-recall-curves-for-classification-in-python/\n",
        "ns_probs = [0 for _ in range(len(y_test))]\n",
        "# calculate scores\n",
        "ns_auc = roc_auc_score(y_test, ns_probs)\n",
        "rf_auc = roc_auc_score(y_test, probs)\n",
        "# summarize scores\n",
        "print('No Skill: ROC AUC=%.3f' % (ns_auc))\n",
        "print('RandomForest: ROC AUC=%.3f' % (rf_auc))\n",
        "# calculate roc curves\n",
        "ns_fpr, ns_tpr, _ = roc_curve(y_test, ns_probs)\n",
        "nn_fpr, nn_tpr, _ = roc_curve(y_test, probs)\n",
        "# plot the roc curve for the model\n",
        "plt.figure(figsize=(7, 5))\n",
        "plt.plot(ns_fpr, ns_tpr, linestyle='--', label='No Skill', color='green')\n",
        "plt.plot(nn_fpr, nn_tpr, linestyle='-', label='RandomForest', color='red')\n",
        "# axis labels\n",
        "plt.xlabel('False Positive Rate')\n",
        "plt.ylabel('True Positive Rate')\n",
        "# show the legend\n",
        "plt.legend()\n",
        "# show the plot\n",
        "plt.show()\n",
        "experiment.log_figure(figure_name=\"AUC ROC RandomForest\", \n",
        "                           overwrite=False, step=None)"
      ]
    },
    {
      "cell_type": "code",
      "execution_count": null,
      "metadata": {
        "colab": {
          "base_uri": "https://localhost:8080/"
        },
        "id": "Cd8QwEw5hQpl",
        "outputId": "d9e5d819-7297-4ed0-e777-909831a334c8"
      },
      "outputs": [
        {
          "data": {
            "text/plain": [
              "{'web': 'https://www.comet.com/api/image/download?imageId=9a2ca9c9c7614fe9ac802d8906214c90&experimentKey=bbf64965ddd444dbba743b6ffcb469f0',\n",
              " 'api': 'https://www.comet.com/api/rest/v1/image/get-image?imageId=9a2ca9c9c7614fe9ac802d8906214c90&experimentKey=bbf64965ddd444dbba743b6ffcb469f0',\n",
              " 'imageId': '9a2ca9c9c7614fe9ac802d8906214c90'}"
            ]
          },
          "execution_count": 68,
          "metadata": {},
          "output_type": "execute_result"
        }
      ],
      "source": [
        "# Plotting Goal Rate versus Shot probability model percentile\n",
        "# Convert 2-D to 1-D series\n",
        "new_series = np.array(y_test)\n",
        "new_series = np.reshape(new_series, (new_series.shape[0]))\n",
        "\n",
        "# Scale true_probabilities (predict_proba() returns true and false both) on percentile\n",
        "true_prob = pd.DataFrame()\n",
        "true_prob['true_target'] = np.array(new_series)\n",
        "percentile = [[np.percentile(probs, i), np.percentile(probs, i+5)] \n",
        "              for i in range(0,100,5)]\n",
        "total_goal = np.sum(new_series)\n",
        "# print(percentile)\n",
        "\n",
        "# Looping on probabilities to check their percentiles with their status as goal/shot\n",
        "goal_probability = []\n",
        "# print(true_prob.shape)\n",
        "for i in range(0, len(percentile)):\n",
        "    # Check the interval of probability in percentile and calculate the number of goals\n",
        "    true_prob_percentile = true_prob[(probs<=percentile[i][1]) & (probs>percentile[i][0])]\n",
        "    goals = true_prob_percentile.loc[true_prob_percentile['true_target']==1].shape[0]\n",
        "    # Check the interval of probability in percentile and calculate the number of no goals (or shots)\n",
        "    no_goals = true_prob_percentile.loc[true_prob_percentile['true_target']==0].shape[0]\n",
        "    # If no goal, do nothing, calculate the formula if goal\n",
        "    if goals == 0:\n",
        "        goal_probability.append(0)\n",
        "    else:\n",
        "        goal_probability.append((goals*100)/(goals+no_goals))\n",
        "\n",
        "# Axis for percentile\n",
        "shot_prob_model_percentile = np.arange(0, 100, 5)\n",
        "    \n",
        "# Plot of goal rate vs Shot probability percentile\n",
        "fig_goal_rate = plt.figure(figsize=(7, 5))\n",
        "sns.set()\n",
        "plt.plot(shot_prob_model_percentile, goal_probability, label='RandomForest')\n",
        "plt.xlim(100, 0)\n",
        "plt.ylim(0, 100)\n",
        "plt.title(\"Goal Rate\")\n",
        "plt.xlabel('Shot probability model percentile', fontsize=14)\n",
        "plt.xticks([0,10,20,30,40,50,60,70,80,90,100])\n",
        "plt.ylabel('Goals / (Shots + Goals)', fontsize=14)\n",
        "y_axis = [0,10,20,30,40,50,60,70,80,90,100]\n",
        "y_values = ['0%','10%','20%','30%','40%','50%','60%','70%','80%','90%','100%']\n",
        "plt.yticks(y_axis, y_values)\n",
        "plt.legend()\n",
        "experiment.log_figure(figure_name=\"Goal versus Shot Probability Model Percentile RandomForest\", \n",
        "                           overwrite=False, step=None)"
      ]
    },
    {
      "cell_type": "code",
      "execution_count": null,
      "metadata": {
        "id": "MjVgyrW3Paf7"
      },
      "outputs": [],
      "source": [
        "# Plot the cumulative proportion of goals\n",
        "# Convert 2-D to 1-D series\n",
        "new_series = np.array(y_test)\n",
        "new_series = np.reshape(new_series, (new_series.shape[0]))\n",
        "\n",
        "# Scale true_probabilities (predict_proba() returns true and false both) on percentile\n",
        "true_prob = pd.DataFrame()\n",
        "true_prob['true_target'] = np.array(new_series)\n",
        "percentile = [[np.percentile(probs, i), np.percentile(probs, i+1)] \n",
        "              for i in range(0,100,1)]\n",
        "total_goal = np.sum(new_series)\n",
        "\n",
        "# Looping on probabilities to check their percentiles with their status as goal/shot\n",
        "cum_prop = []\n",
        "for i in range(0, len(percentile)-1):\n",
        "    # We need previous and current goal lie in the percentile\n",
        "    true_prob_percentile = true_prob[(probs>=percentile[i][0])]\n",
        "    goals = true_prob_percentile.loc[true_prob_percentile['true_target']==1].shape[0]\n",
        "    # If no goal, do nothing, calculate the formula if goal\n",
        "    cum_prop.append(goals*100/total_goal)\n",
        "cum_prop.append(0)\n",
        "\n",
        "# Axis for percentile\n",
        "shot_prob_model_percentile = np.arange(0, 100, 1)\n",
        "    \n",
        "# Plot of cumulative frequency vs Shot probability percentile\n",
        "fig_cum_shot = plt.figure(figsize=(7, 5))\n",
        "sns.set()\n",
        "plt.plot(shot_prob_model_percentile, cum_prop, label='RandomForest')\n",
        "plt.xlim(100, 0)\n",
        "plt.ylim(0, 100)\n",
        "plt.title(\"Cumulative % of goals\")\n",
        "plt.xlabel('Shot probability model percentile', fontsize=14)\n",
        "plt.xticks([0,10,20,30,40,50,60,70,80,90,100])\n",
        "plt.ylabel('Proportion', fontsize=14)\n",
        "y_axis = [0,10,20,30,40,50,60,70,80,90,100]\n",
        "y_values = ['0%','10%','20%','30%','40%','50%','60%','70%','80%','90%','100%']\n",
        "plt.yticks(y_axis, y_values)\n",
        "plt.legend(loc='upper left')\n",
        "experiment.log_figure(figure_name=\"Cumulative Proportion of Goals RandomForest\", \n",
        "                           overwrite=False, step=None)\n",
        "plt.show()"
      ]
    },
    {
      "cell_type": "code",
      "execution_count": null,
      "metadata": {
        "id": "3KNeoztdPuJJ"
      },
      "outputs": [],
      "source": [
        "# Plot reliability curves\n",
        "prob_true, prob_pred = calibration_curve(y_test, probs, n_bins=10)\n",
        "plt.rcParams[\"figure.figsize\"] = (8,5)\n",
        "disp1 = CalibrationDisplay(prob_true, prob_pred, probs)\n",
        "#disp1.savefig(\"Calibration Curve or Reliability 1 Diagram Base.png\")\n",
        "plt1 = disp1.plot(label='RandomForest')\n",
        "plt.title(\"Calibration Curve/Reliability Diagram\")\n",
        "experiment.log_figure(figure_name=\"Caliberative Curve 1 RandomForest\", \n",
        "                           overwrite=False, step=None)\n",
        "\n",
        "disp2 = CalibrationDisplay.from_estimator(model, X_test_scaled, y_test)\n",
        "plt.title(\"Calibration Curve/Reliability Diagram\")\n",
        "plt.legend(loc='upper left')\n",
        "experiment.log_figure(figure_name=\"Caliberative Curve 2 RandomForest\", \n",
        "                           overwrite=False, step=None)\n",
        "plt.show()\n",
        "\n",
        "disp3 = CalibrationDisplay.from_predictions(y_test, probs, name='RandomForest')\n",
        "plt.title(\"Calibration Curve/Reliability Diagram\")\n",
        "plt.legend(loc='upper left')\n",
        "experiment.log_figure(figure_name=\"Caliberative Curve 3 RandomForest\", \n",
        "                           overwrite=False, step=None)\n",
        "plt.show()\n",
        "caliberation_display_RandomForest = [y_test, probs, 'RandomForest']"
      ]
    },
    {
      "cell_type": "code",
      "execution_count": null,
      "metadata": {
        "colab": {
          "base_uri": "https://localhost:8080/"
        },
        "id": "UQSqnhXcQ4ZS",
        "outputId": "40f81999-2df3-44c2-de57-62c6d9f5b8fd"
      },
      "outputs": [
        {
          "name": "stderr",
          "output_type": "stream",
          "text": [
            "COMET INFO: ---------------------------\n",
            "COMET INFO: Comet.ml Experiment Summary\n",
            "COMET INFO: ---------------------------\n",
            "COMET INFO:   Data:\n",
            "COMET INFO:     display_summary_level : 1\n",
            "COMET INFO:     url                   : https://www.comet.com/anshitasaxena/milestone-project-2/bbf64965ddd444dbba743b6ffcb469f0\n",
            "COMET INFO:   Metrics:\n",
            "COMET INFO:     randomforest accuracy:  : 0.9133926924560256\n",
            "COMET INFO:   Others:\n",
            "COMET INFO:     Name         : randomforest\n",
            "COMET INFO:     notebook_url : https://colab.research.google.com/notebook#fileId=1suNOxGC9DDN3QRKmpNe8UkKlEIGhkk6W\n",
            "COMET INFO:   Uploads:\n",
            "COMET INFO:     confusion-matrix    : 1\n",
            "COMET INFO:     environment details : 1\n",
            "COMET INFO:     figures             : 8\n",
            "COMET INFO:     filename            : 1\n",
            "COMET INFO:     installed packages  : 1\n",
            "COMET INFO:     model-element       : 1 (3.95 MB)\n",
            "COMET INFO:     notebook            : 2\n",
            "COMET INFO:     os packages         : 1\n",
            "COMET INFO:     source_code         : 1\n",
            "COMET INFO: ---------------------------\n",
            "COMET WARNING: Comet has disabled auto-logging functionality as it has been imported after the following ML modules: sklearn. Metrics and hyperparameters can still be logged using comet_ml.log_metrics() and comet_ml.log_parameters()\n",
            "COMET INFO: Uploading metrics, params, and assets to Comet before program termination (may take several seconds)\n",
            "COMET INFO: The Python SDK has 3600 seconds to finish before aborting...\n"
          ]
        }
      ],
      "source": [
        "experiment.end()"
      ]
    },
    {
      "cell_type": "markdown",
      "metadata": {
        "id": "ZuNXXyrxZq7x"
      },
      "source": [
        "Starting Decision Tree Classifier Model"
      ]
    },
    {
      "cell_type": "code",
      "execution_count": null,
      "metadata": {
        "id": "h_jVggIJZq7z"
      },
      "outputs": [],
      "source": [
        "# Splitting and standardizing the dataset\n",
        "X_train, X_test, Y_train, y_test = dataset_split(transformed_X[final_feature_selected_list], y_numeric)\n",
        "X_train_scaled, X_test_scaled = dataset_standardization(X_train)"
      ]
    },
    {
      "cell_type": "code",
      "execution_count": null,
      "metadata": {
        "id": "1-kw77ZKZq8I"
      },
      "outputs": [],
      "source": [
        "Y_train = np.ravel(Y_train)"
      ]
    },
    {
      "cell_type": "code",
      "execution_count": null,
      "metadata": {
        "colab": {
          "base_uri": "https://localhost:8080/"
        },
        "outputId": "efda4d0e-ac45-4d90-d751-60cb1ec3265b",
        "id": "m4h6dzHlZq8I"
      },
      "outputs": [
        {
          "data": {
            "text/plain": [
              "RandomForestClassifier(random_state=42)"
            ]
          },
          "execution_count": 24,
          "metadata": {},
          "output_type": "execute_result"
        }
      ],
      "source": [
        "rf_default = RandomForestClassifier(random_state=42)\n",
        "rf_default.fit(X_train_scaled, Y_train)"
      ]
    },
    {
      "cell_type": "code",
      "execution_count": null,
      "metadata": {
        "colab": {
          "base_uri": "https://localhost:8080/"
        },
        "outputId": "d1aac1c2-d5d7-472d-ab5a-4761647aa87c",
        "id": "057UG24TZq8K"
      },
      "outputs": [
        {
          "data": {
            "text/plain": [
              "{'bootstrap': True,\n",
              " 'ccp_alpha': 0.0,\n",
              " 'class_weight': None,\n",
              " 'criterion': 'gini',\n",
              " 'max_depth': None,\n",
              " 'max_features': 'auto',\n",
              " 'max_leaf_nodes': None,\n",
              " 'max_samples': None,\n",
              " 'min_impurity_decrease': 0.0,\n",
              " 'min_samples_leaf': 1,\n",
              " 'min_samples_split': 2,\n",
              " 'min_weight_fraction_leaf': 0.0,\n",
              " 'n_estimators': 100,\n",
              " 'n_jobs': None,\n",
              " 'oob_score': False,\n",
              " 'random_state': 42,\n",
              " 'verbose': 0,\n",
              " 'warm_start': False}"
            ]
          },
          "execution_count": 26,
          "metadata": {},
          "output_type": "execute_result"
        }
      ],
      "source": [
        "rf_default.get_params()"
      ]
    },
    {
      "cell_type": "code",
      "execution_count": null,
      "metadata": {
        "id": "UFD37oN6Zq8L"
      },
      "outputs": [],
      "source": [
        "rf = RandomForestClassifier(random_state=42)"
      ]
    },
    {
      "cell_type": "code",
      "execution_count": null,
      "metadata": {
        "id": "ryvWXv4yZq8L"
      },
      "outputs": [],
      "source": [
        "#selecting hyperparameters for tuning the model\n",
        "params =  {\n",
        "    'n_estimators': [50, 100, 200, 500],\n",
        "    'max_depth': [2, 4, 6, 8, 16],\n",
        "    'max_features' : ['auto', 'sqrt', 'log2'],\n",
        "    'min_samples_split': [2, 5, 10],\n",
        "    'min_samples_leaf': [1, 2, 3, 5],\n",
        "    'bootstrap': [True, False],\n",
        "    'criterion' : ['gini', 'entropy'],\n",
        "}"
      ]
    },
    {
      "cell_type": "code",
      "execution_count": null,
      "metadata": {
        "id": "qFSKObg9Zq8M"
      },
      "outputs": [],
      "source": [
        "model = RandomizedSearchCV(rf, params, random_state=42, cv=5)"
      ]
    },
    {
      "cell_type": "code",
      "execution_count": null,
      "metadata": {
        "id": "VjeeMlFkZq8N"
      },
      "outputs": [],
      "source": [
        "Y_train = np.ravel(Y_train)"
      ]
    },
    {
      "cell_type": "code",
      "execution_count": null,
      "metadata": {
        "colab": {
          "base_uri": "https://localhost:8080/"
        },
        "outputId": "1c4a47c6-6c19-4c39-9f9d-38f3e3511a10",
        "id": "3n0udlzmZq8N"
      },
      "outputs": [
        {
          "data": {
            "text/plain": [
              "RandomizedSearchCV(cv=5, estimator=RandomForestClassifier(random_state=42),\n",
              "                   param_distributions={'bootstrap': [True, False],\n",
              "                                        'criterion': ['gini', 'entropy'],\n",
              "                                        'max_depth': [2, 4, 6, 8, 16],\n",
              "                                        'max_features': ['auto', 'sqrt',\n",
              "                                                         'log2'],\n",
              "                                        'min_samples_leaf': [1, 2, 3, 5],\n",
              "                                        'min_samples_split': [2, 5, 10],\n",
              "                                        'n_estimators': [50, 100, 200, 500]},\n",
              "                   random_state=42)"
            ]
          },
          "execution_count": 43,
          "metadata": {},
          "output_type": "execute_result"
        }
      ],
      "source": [
        "model.fit(X_train_scaled, Y_train)"
      ]
    },
    {
      "cell_type": "code",
      "execution_count": null,
      "metadata": {
        "colab": {
          "base_uri": "https://localhost:8080/"
        },
        "outputId": "bb50a306-c207-41c5-9d6e-09382c48e343",
        "id": "965p8R9pZq8O"
      },
      "outputs": [
        {
          "name": "stdout",
          "output_type": "stream",
          "text": [
            "Best parameters found:\n",
            " {'n_estimators': 200, 'min_samples_split': 10, 'min_samples_leaf': 5, 'max_features': 'log2', 'max_depth': 8, 'criterion': 'entropy', 'bootstrap': True}\n"
          ]
        }
      ],
      "source": [
        "# Best parameter set for randomforest Classifier\n",
        "print('Best parameters found:\\n', model.best_params_)"
      ]
    },
    {
      "cell_type": "code",
      "execution_count": null,
      "metadata": {
        "id": "Hn5hco10Zq8P"
      },
      "outputs": [],
      "source": [
        "model = RandomForestClassifier(criterion='entropy', max_depth=8, n_estimators=200, \n",
        "                               max_features ='log2',  bootstrap= True,\n",
        "               min_samples_split=10, min_samples_leaf=5, random_state=42)"
      ]
    },
    {
      "cell_type": "code",
      "execution_count": null,
      "metadata": {
        "colab": {
          "base_uri": "https://localhost:8080/"
        },
        "outputId": "cbd8e82f-49d9-44bd-b5bd-2815a2e47a04",
        "id": "Q3Mlr843Zq8P"
      },
      "outputs": [
        {
          "data": {
            "text/plain": [
              "RandomForestClassifier(criterion='entropy', max_depth=8, max_features='log2',\n",
              "                       min_samples_leaf=5, min_samples_split=10,\n",
              "                       n_estimators=200, random_state=42)"
            ]
          },
          "execution_count": 52,
          "metadata": {},
          "output_type": "execute_result"
        }
      ],
      "source": [
        "model.fit(X_train_scaled, Y_train)"
      ]
    },
    {
      "cell_type": "code",
      "execution_count": null,
      "metadata": {
        "id": "P8sc5F13Zq8Q"
      },
      "outputs": [],
      "source": [
        "y_pred = model.predict(X_test_scaled)"
      ]
    },
    {
      "cell_type": "code",
      "execution_count": null,
      "metadata": {
        "colab": {
          "base_uri": "https://localhost:8080/"
        },
        "outputId": "0e0a0dc0-d51d-4bd1-9dc4-6e77884f51d3",
        "id": "5uUmtjrqZq8Q"
      },
      "outputs": [
        {
          "name": "stdout",
          "output_type": "stream",
          "text": [
            "Accuracy: 91.34%\n"
          ]
        }
      ],
      "source": [
        "predictions = [round(value) for value in y_pred]\n",
        "accuracy = accuracy_score(y_test, predictions)\n",
        "print(\"Accuracy: %.2f%%\" % (accuracy * 100.0))\n",
        "filename = 'randomforest.pkl'\n",
        "# # save model\n",
        "joblib.dump(model, filename)\n",
        "\n",
        "#log experiment in comet.ml\n",
        "experiment.log_model(\"randomforest\", filename)\n",
        "experiment.log_metric(\"randomforest accuracy: \", accuracy)\n",
        "y_tr_pred = model.predict(X_train_scaled)\n",
        "dt_probs = model.predict_proba(X_test_scaled)\n",
        "probs = dt_probs[:, 1]"
      ]
    },
    {
      "cell_type": "code",
      "execution_count": null,
      "metadata": {
        "colab": {
          "base_uri": "https://localhost:8080/"
        },
        "outputId": "4dc9923f-b260-4d78-b1b8-2ed683034680",
        "id": "wsdBPXMuZq8R"
      },
      "outputs": [
        {
          "name": "stdout",
          "output_type": "stream",
          "text": [
            "[[54196     0]\n",
            " [ 5165   276]]\n",
            "<class 'pandas.core.frame.DataFrame'>\n",
            "<class 'numpy.ndarray'>\n"
          ]
        },
        {
          "data": {
            "text/plain": [
              "{'web': 'https://www.comet.com/api/asset/download?assetId=09f98a281e444834ba078b9a753689a7&experimentKey=bbf64965ddd444dbba743b6ffcb469f0',\n",
              " 'api': 'https://www.comet.com/api/rest/v2/experiment/asset/get-asset?assetId=09f98a281e444834ba078b9a753689a7&experimentKey=bbf64965ddd444dbba743b6ffcb469f0',\n",
              " 'assetId': '09f98a281e444834ba078b9a753689a7'}"
            ]
          },
          "execution_count": 64,
          "metadata": {},
          "output_type": "execute_result"
        }
      ],
      "source": [
        "# Plot the confusion matrix\n",
        "# SOURCE: https://vitalflux.com/python-draw-confusion-matrix-matplotlib/\n",
        "# Calculate the confusion matrix\n",
        "conf_matrix = confusion_matrix(y_true=y_test, y_pred=y_pred)\n",
        "print(conf_matrix)\n",
        "fig, ax = plt.subplots(figsize=(7, 5))\n",
        "ax.matshow(conf_matrix, cmap=plt.cm.viridis, alpha=0.2)\n",
        "for i in range(conf_matrix.shape[0]):\n",
        "    for j in range(conf_matrix.shape[1]):\n",
        "        ax.text(x=j, y=i,s=conf_matrix[i, j], va='center', ha='center', size='xx-large')\n",
        "plt.xlabel('Predictions', fontsize=14)\n",
        "plt.ylabel('Actuals', fontsize=14)\n",
        "plt.title('Confusion Matrix', fontsize=16)\n",
        "plt.show()\n",
        "print(type(y_test))\n",
        "print(type(model.predict(X_test_scaled)))\n",
        "experiment.log_confusion_matrix(matrix=conf_matrix)"
      ]
    },
    {
      "cell_type": "code",
      "execution_count": null,
      "metadata": {
        "colab": {
          "base_uri": "https://localhost:8080/"
        },
        "outputId": "1725ab30-4d28-4a13-cfdf-1f82547d240d",
        "id": "OHEIFtu0Zq8T"
      },
      "outputs": [
        {
          "name": "stdout",
          "output_type": "stream",
          "text": [
            "Test Classification Report:\n",
            "              precision    recall  f1-score   support\n",
            "\n",
            "           0       0.91      1.00      0.95     54196\n",
            "           1       1.00      0.05      0.10      5441\n",
            "\n",
            "    accuracy                           0.91     59637\n",
            "   macro avg       0.96      0.53      0.53     59637\n",
            "weighted avg       0.92      0.91      0.88     59637\n",
            "\n",
            "Train Classification Report:\n",
            "              precision    recall  f1-score   support\n",
            "\n",
            "           0       0.91      1.00      0.95    216784\n",
            "           1       1.00      0.05      0.10     21764\n",
            "\n",
            "    accuracy                           0.91    238548\n",
            "   macro avg       0.96      0.53      0.53    238548\n",
            "weighted avg       0.92      0.91      0.88    238548\n",
            "\n"
          ]
        }
      ],
      "source": [
        "# Classification Report showing the classification metrics\n",
        "print('Test Classification Report:')\n",
        "print(classification_report(y_test, model.predict(X_test_scaled)))\n",
        "print('Train Classification Report:')\n",
        "print(classification_report(Y_train, model.predict(X_train_scaled)))"
      ]
    },
    {
      "cell_type": "code",
      "execution_count": null,
      "metadata": {
        "colab": {
          "base_uri": "https://localhost:8080/"
        },
        "outputId": "53f8c4ee-3ea3-4b00-ee2f-ac7a7c23b966",
        "id": "Cefrxj7RZq8T"
      },
      "outputs": [
        {
          "data": {
            "text/plain": [
              "{'web': 'https://www.comet.com/api/image/download?imageId=3ef75babf6224bc4907e3eaa322c379c&experimentKey=bbf64965ddd444dbba743b6ffcb469f0',\n",
              " 'api': 'https://www.comet.com/api/rest/v1/image/get-image?imageId=3ef75babf6224bc4907e3eaa322c379c&experimentKey=bbf64965ddd444dbba743b6ffcb469f0',\n",
              " 'imageId': '3ef75babf6224bc4907e3eaa322c379c'}"
            ]
          },
          "execution_count": 66,
          "metadata": {},
          "output_type": "execute_result"
        }
      ],
      "source": [
        "# Plot the feature importances, game_seconds is a strong feature for prediction\n",
        "feature_imp = pd.DataFrame()\n",
        "feature_imp['features'] = X_train.columns\n",
        "feature_imp['imp'] = model.feature_importances_\n",
        "\n",
        "# figure size in inches\n",
        "rcParams['figure.figsize'] = 12,9\n",
        "ax = sns.barplot(x=\"imp\", y=\"features\", data=feature_imp)\n",
        "experiment.log_figure(figure_name=\"Bar Plot RandomForest\", \n",
        "                           overwrite=False, step=None)"
      ]
    },
    {
      "cell_type": "code",
      "execution_count": null,
      "metadata": {
        "colab": {
          "base_uri": "https://localhost:8080/"
        },
        "outputId": "e562c907-d8b2-4f7b-ebd2-977ba82496ce",
        "id": "69t6_fj8Zq8U"
      },
      "outputs": [
        {
          "name": "stdout",
          "output_type": "stream",
          "text": [
            "No Skill: ROC AUC=0.500\n",
            "RandomForest: ROC AUC=0.827\n"
          ]
        },
        {
          "data": {
            "text/plain": [
              "{'web': 'https://www.comet.com/api/image/download?imageId=7a8c8fd7ab1c497591068c2824dc6c0c&experimentKey=bbf64965ddd444dbba743b6ffcb469f0',\n",
              " 'api': 'https://www.comet.com/api/rest/v1/image/get-image?imageId=7a8c8fd7ab1c497591068c2824dc6c0c&experimentKey=bbf64965ddd444dbba743b6ffcb469f0',\n",
              " 'imageId': '7a8c8fd7ab1c497591068c2824dc6c0c'}"
            ]
          },
          "execution_count": 67,
          "metadata": {},
          "output_type": "execute_result"
        }
      ],
      "source": [
        "# Plotting ROC AUC Curve\n",
        "fpr, tpr, _ = roc_curve(y_test, predictions)\n",
        "roc_auc = auc(fpr, tpr)# generate a no skill prediction (majority class)\n",
        "# Source: https://machinelearningmastery.com/roc-curves-and-precision-recall-curves-for-classification-in-python/\n",
        "ns_probs = [0 for _ in range(len(y_test))]\n",
        "# calculate scores\n",
        "ns_auc = roc_auc_score(y_test, ns_probs)\n",
        "rf_auc = roc_auc_score(y_test, probs)\n",
        "# summarize scores\n",
        "print('No Skill: ROC AUC=%.3f' % (ns_auc))\n",
        "print('RandomForest: ROC AUC=%.3f' % (rf_auc))\n",
        "# calculate roc curves\n",
        "ns_fpr, ns_tpr, _ = roc_curve(y_test, ns_probs)\n",
        "nn_fpr, nn_tpr, _ = roc_curve(y_test, probs)\n",
        "# plot the roc curve for the model\n",
        "plt.figure(figsize=(7, 5))\n",
        "plt.plot(ns_fpr, ns_tpr, linestyle='--', label='No Skill', color='green')\n",
        "plt.plot(nn_fpr, nn_tpr, linestyle='-', label='RandomForest', color='red')\n",
        "# axis labels\n",
        "plt.xlabel('False Positive Rate')\n",
        "plt.ylabel('True Positive Rate')\n",
        "# show the legend\n",
        "plt.legend()\n",
        "# show the plot\n",
        "plt.show()\n",
        "experiment.log_figure(figure_name=\"AUC ROC RandomForest\", \n",
        "                           overwrite=False, step=None)"
      ]
    },
    {
      "cell_type": "code",
      "execution_count": null,
      "metadata": {
        "colab": {
          "base_uri": "https://localhost:8080/"
        },
        "outputId": "d9e5d819-7297-4ed0-e777-909831a334c8",
        "id": "_oH1QxN3Zq8V"
      },
      "outputs": [
        {
          "data": {
            "text/plain": [
              "{'web': 'https://www.comet.com/api/image/download?imageId=9a2ca9c9c7614fe9ac802d8906214c90&experimentKey=bbf64965ddd444dbba743b6ffcb469f0',\n",
              " 'api': 'https://www.comet.com/api/rest/v1/image/get-image?imageId=9a2ca9c9c7614fe9ac802d8906214c90&experimentKey=bbf64965ddd444dbba743b6ffcb469f0',\n",
              " 'imageId': '9a2ca9c9c7614fe9ac802d8906214c90'}"
            ]
          },
          "execution_count": 68,
          "metadata": {},
          "output_type": "execute_result"
        }
      ],
      "source": [
        "# Plotting Goal Rate versus Shot probability model percentile\n",
        "# Convert 2-D to 1-D series\n",
        "new_series = np.array(y_test)\n",
        "new_series = np.reshape(new_series, (new_series.shape[0]))\n",
        "\n",
        "# Scale true_probabilities (predict_proba() returns true and false both) on percentile\n",
        "true_prob = pd.DataFrame()\n",
        "true_prob['true_target'] = np.array(new_series)\n",
        "percentile = [[np.percentile(probs, i), np.percentile(probs, i+5)] \n",
        "              for i in range(0,100,5)]\n",
        "total_goal = np.sum(new_series)\n",
        "# print(percentile)\n",
        "\n",
        "# Looping on probabilities to check their percentiles with their status as goal/shot\n",
        "goal_probability = []\n",
        "# print(true_prob.shape)\n",
        "for i in range(0, len(percentile)):\n",
        "    # Check the interval of probability in percentile and calculate the number of goals\n",
        "    true_prob_percentile = true_prob[(probs<=percentile[i][1]) & (probs>percentile[i][0])]\n",
        "    goals = true_prob_percentile.loc[true_prob_percentile['true_target']==1].shape[0]\n",
        "    # Check the interval of probability in percentile and calculate the number of no goals (or shots)\n",
        "    no_goals = true_prob_percentile.loc[true_prob_percentile['true_target']==0].shape[0]\n",
        "    # If no goal, do nothing, calculate the formula if goal\n",
        "    if goals == 0:\n",
        "        goal_probability.append(0)\n",
        "    else:\n",
        "        goal_probability.append((goals*100)/(goals+no_goals))\n",
        "\n",
        "# Axis for percentile\n",
        "shot_prob_model_percentile = np.arange(0, 100, 5)\n",
        "    \n",
        "# Plot of goal rate vs Shot probability percentile\n",
        "fig_goal_rate = plt.figure(figsize=(7, 5))\n",
        "sns.set()\n",
        "plt.plot(shot_prob_model_percentile, goal_probability, label='RandomForest')\n",
        "plt.xlim(100, 0)\n",
        "plt.ylim(0, 100)\n",
        "plt.title(\"Goal Rate\")\n",
        "plt.xlabel('Shot probability model percentile', fontsize=14)\n",
        "plt.xticks([0,10,20,30,40,50,60,70,80,90,100])\n",
        "plt.ylabel('Goals / (Shots + Goals)', fontsize=14)\n",
        "y_axis = [0,10,20,30,40,50,60,70,80,90,100]\n",
        "y_values = ['0%','10%','20%','30%','40%','50%','60%','70%','80%','90%','100%']\n",
        "plt.yticks(y_axis, y_values)\n",
        "plt.legend()\n",
        "experiment.log_figure(figure_name=\"Goal versus Shot Probability Model Percentile RandomForest\", \n",
        "                           overwrite=False, step=None)"
      ]
    },
    {
      "cell_type": "code",
      "execution_count": null,
      "metadata": {
        "id": "T4WCNMTjZq8W"
      },
      "outputs": [],
      "source": [
        "# Plot the cumulative proportion of goals\n",
        "# Convert 2-D to 1-D series\n",
        "new_series = np.array(y_test)\n",
        "new_series = np.reshape(new_series, (new_series.shape[0]))\n",
        "\n",
        "# Scale true_probabilities (predict_proba() returns true and false both) on percentile\n",
        "true_prob = pd.DataFrame()\n",
        "true_prob['true_target'] = np.array(new_series)\n",
        "percentile = [[np.percentile(probs, i), np.percentile(probs, i+1)] \n",
        "              for i in range(0,100,1)]\n",
        "total_goal = np.sum(new_series)\n",
        "\n",
        "# Looping on probabilities to check their percentiles with their status as goal/shot\n",
        "cum_prop = []\n",
        "for i in range(0, len(percentile)-1):\n",
        "    # We need previous and current goal lie in the percentile\n",
        "    true_prob_percentile = true_prob[(probs>=percentile[i][0])]\n",
        "    goals = true_prob_percentile.loc[true_prob_percentile['true_target']==1].shape[0]\n",
        "    # If no goal, do nothing, calculate the formula if goal\n",
        "    cum_prop.append(goals*100/total_goal)\n",
        "cum_prop.append(0)\n",
        "\n",
        "# Axis for percentile\n",
        "shot_prob_model_percentile = np.arange(0, 100, 1)\n",
        "    \n",
        "# Plot of cumulative frequency vs Shot probability percentile\n",
        "fig_cum_shot = plt.figure(figsize=(7, 5))\n",
        "sns.set()\n",
        "plt.plot(shot_prob_model_percentile, cum_prop, label='RandomForest')\n",
        "plt.xlim(100, 0)\n",
        "plt.ylim(0, 100)\n",
        "plt.title(\"Cumulative % of goals\")\n",
        "plt.xlabel('Shot probability model percentile', fontsize=14)\n",
        "plt.xticks([0,10,20,30,40,50,60,70,80,90,100])\n",
        "plt.ylabel('Proportion', fontsize=14)\n",
        "y_axis = [0,10,20,30,40,50,60,70,80,90,100]\n",
        "y_values = ['0%','10%','20%','30%','40%','50%','60%','70%','80%','90%','100%']\n",
        "plt.yticks(y_axis, y_values)\n",
        "plt.legend(loc='upper left')\n",
        "experiment.log_figure(figure_name=\"Cumulative Proportion of Goals RandomForest\", \n",
        "                           overwrite=False, step=None)\n",
        "plt.show()"
      ]
    },
    {
      "cell_type": "code",
      "execution_count": null,
      "metadata": {
        "id": "JkyBtiXMZq8W"
      },
      "outputs": [],
      "source": [
        "# Plot reliability curves\n",
        "prob_true, prob_pred = calibration_curve(y_test, probs, n_bins=10)\n",
        "plt.rcParams[\"figure.figsize\"] = (8,5)\n",
        "disp1 = CalibrationDisplay(prob_true, prob_pred, probs)\n",
        "#disp1.savefig(\"Calibration Curve or Reliability 1 Diagram Base.png\")\n",
        "plt1 = disp1.plot(label='RandomForest')\n",
        "plt.title(\"Calibration Curve/Reliability Diagram\")\n",
        "experiment.log_figure(figure_name=\"Caliberative Curve 1 RandomForest\", \n",
        "                           overwrite=False, step=None)\n",
        "\n",
        "disp2 = CalibrationDisplay.from_estimator(model, X_test_scaled, y_test)\n",
        "plt.title(\"Calibration Curve/Reliability Diagram\")\n",
        "plt.legend(loc='upper left')\n",
        "experiment.log_figure(figure_name=\"Caliberative Curve 2 RandomForest\", \n",
        "                           overwrite=False, step=None)\n",
        "plt.show()\n",
        "\n",
        "disp3 = CalibrationDisplay.from_predictions(y_test, probs, name='RandomForest')\n",
        "plt.title(\"Calibration Curve/Reliability Diagram\")\n",
        "plt.legend(loc='upper left')\n",
        "experiment.log_figure(figure_name=\"Caliberative Curve 3 RandomForest\", \n",
        "                           overwrite=False, step=None)\n",
        "plt.show()\n",
        "caliberation_display_RandomForest = [y_test, probs, 'RandomForest']"
      ]
    },
    {
      "cell_type": "code",
      "execution_count": null,
      "metadata": {
        "colab": {
          "base_uri": "https://localhost:8080/"
        },
        "outputId": "40f81999-2df3-44c2-de57-62c6d9f5b8fd",
        "id": "BhXilJoTZq8X"
      },
      "outputs": [
        {
          "name": "stderr",
          "output_type": "stream",
          "text": [
            "COMET INFO: ---------------------------\n",
            "COMET INFO: Comet.ml Experiment Summary\n",
            "COMET INFO: ---------------------------\n",
            "COMET INFO:   Data:\n",
            "COMET INFO:     display_summary_level : 1\n",
            "COMET INFO:     url                   : https://www.comet.com/anshitasaxena/milestone-project-2/bbf64965ddd444dbba743b6ffcb469f0\n",
            "COMET INFO:   Metrics:\n",
            "COMET INFO:     randomforest accuracy:  : 0.9133926924560256\n",
            "COMET INFO:   Others:\n",
            "COMET INFO:     Name         : randomforest\n",
            "COMET INFO:     notebook_url : https://colab.research.google.com/notebook#fileId=1suNOxGC9DDN3QRKmpNe8UkKlEIGhkk6W\n",
            "COMET INFO:   Uploads:\n",
            "COMET INFO:     confusion-matrix    : 1\n",
            "COMET INFO:     environment details : 1\n",
            "COMET INFO:     figures             : 8\n",
            "COMET INFO:     filename            : 1\n",
            "COMET INFO:     installed packages  : 1\n",
            "COMET INFO:     model-element       : 1 (3.95 MB)\n",
            "COMET INFO:     notebook            : 2\n",
            "COMET INFO:     os packages         : 1\n",
            "COMET INFO:     source_code         : 1\n",
            "COMET INFO: ---------------------------\n",
            "COMET WARNING: Comet has disabled auto-logging functionality as it has been imported after the following ML modules: sklearn. Metrics and hyperparameters can still be logged using comet_ml.log_metrics() and comet_ml.log_parameters()\n",
            "COMET INFO: Uploading metrics, params, and assets to Comet before program termination (may take several seconds)\n",
            "COMET INFO: The Python SDK has 3600 seconds to finish before aborting...\n"
          ]
        }
      ],
      "source": [
        "experiment.end()"
      ]
    }
  ]
}