{
 "cells": [
  {
   "cell_type": "code",
   "execution_count": 26,
   "id": "c8968310-34d5-4abd-9a83-619e4c0553bf",
   "metadata": {
    "scrolled": true
   },
   "outputs": [
    {
     "data": {
      "application/vnd.jupyter.widget-view+json": {
       "model_id": "a14f6c88dd0a4837a716fd50dfd0fdda",
       "version_major": 2,
       "version_minor": 0
      },
      "text/plain": [
       "interactive(children=(Dropdown(description='Game Type:', options=('regular_season', 'playoffs'), value='regula…"
      ]
     },
     "metadata": {},
     "output_type": "display_data"
    },
    {
     "data": {
      "text/plain": [
       "<function __main__.interactive_main(reg)>"
      ]
     },
     "execution_count": 26,
     "metadata": {},
     "output_type": "execute_result"
    }
   ],
   "source": [
    "import matplotlib.image as mpimg\n",
    "import matplotlib.pyplot as plt\n",
    "import ipywidgets as widgets\n",
    "import json, os\n",
    "\n",
    "def interactive_main(reg):\n",
    "    \"\"\"\n",
    "    Intractive tool main function\n",
    "    :param reg: Dropdown to select regular or playoff game\n",
    "    \"\"\"\n",
    "    # Path of the directory to collect the data \n",
    "    # The data for this functionality coming from the live jsons\n",
    "    # As per the TA recommendation, we are not keeping the data in Github but we are mentioning her the correct path\n",
    "    path = '\\\\'.join(str(os.getcwd()).split('\\\\')[:-2])\n",
    "    path = os.path.join(path, 'milestone1')\n",
    "    file_path = os.path.join(path,'data', 'raw')\n",
    "    file_path_seasons = os.path.join(file_path, reg)\n",
    "    # load the rink: for project use the following\n",
    "    path2rink = os.path.join('\\\\'.join(str(os.getcwd()).split('\\\\')[:-1]), 'reports', 'figures', \"nhl_rink.png\")\n",
    "    # List of all the seasons\n",
    "    all_folders = os.listdir(file_path_seasons)\n",
    "    \n",
    "    def get_season(season):\n",
    "        \"\"\"\n",
    "        Intractive tool main function\n",
    "        :param reg: Dropdown to select regular or playoff game\n",
    "        \"\"\"\n",
    "        # Path for the data\n",
    "        path = '\\\\'.join(str(os.getcwd()).split('\\\\')[:-2])\n",
    "        path = os.path.join(path, 'milestone1')\n",
    "        file_path = os.path.join(path,'data', 'raw')\n",
    "        path=file_path+\"/\"+reg+\"/\" + season +\"/\"\n",
    "        # creating list of all game_id\n",
    "        id_list =[]\n",
    "        for fname in os.listdir(path):\n",
    "            id_list.append(fname[6:10])\n",
    "        \n",
    "        def get_game_id(game_id):\n",
    "            g_id = str(game_id).zfill(4)\n",
    "            # Get the game id from json\n",
    "            for fname in os.listdir(path):\n",
    "                if fname.endswith(g_id+\".json\"):\n",
    "                    f = path + fname\n",
    "            with open(f, 'r') as f:\n",
    "                data = json.load(f) \n",
    "                \n",
    "            # Get the associated columns of data from json\n",
    "            print(data['gameData']['datetime']['dateTime'])\n",
    "            home = data['gameData']['teams']['home']['abbreviation']\n",
    "            away = data['gameData']['teams']['away']['abbreviation']\n",
    "            goals_home = data['liveData']['plays']['currentPlay']['about']['goals']['home']\n",
    "            goals_away = data['liveData']['plays']['currentPlay']['about']['goals']['away']\n",
    "            sog_home = data['liveData']['linescore']['periods'][0]['home']['shotsOnGoal'] + data['liveData']['linescore']['periods'][1]['home']['shotsOnGoal'] + data['liveData']['linescore']['periods'][2]['home']['shotsOnGoal']\n",
    "            sog_away = data['liveData']['linescore']['periods'][0]['away']['shotsOnGoal'] + data['liveData']['linescore']['periods'][1]['away']['shotsOnGoal'] + data['liveData']['linescore']['periods'][2]['away']['shotsOnGoal']\n",
    "            so_goalshome = data['liveData']['linescore']['shootoutInfo']['home']['scores']\n",
    "            so_attemptshome = data['liveData']['linescore']['shootoutInfo']['home']['attempts']\n",
    "            so_goalsaway = data['liveData']['linescore']['shootoutInfo']['away']['scores']\n",
    "            so_attemptsaway = data['liveData']['linescore']['shootoutInfo']['away']['attempts']\n",
    "            print(\"Game ID: \"+ g_id +\";   \" + home +\"  (home) vs \"+ away + \" (away)\")\n",
    "            print ( \"           \" + str(\"OT\"))\n",
    "            print(\"                        \" + \"Home\" +\"      \"+ \"Away\" )\n",
    "            print(\"           Teams:       \" + home +\"       \"+ away)\n",
    "            print(\"           Goals:       \" + f'{goals_home}' +\"         \"+ f'{goals_away}')\n",
    "            print(\"           SoG:         \" + f'{sog_home}' +\"        \"+ f'{sog_away}')\n",
    "            print(\"           So Goals:    \" + f'{so_goalshome}' +  \"         \"+ f'{so_goalsaway}')\n",
    "            print(\"           So Attempts: \" + f'{so_attemptshome}' +  \"         \"+ f'{so_attemptsaway}')\n",
    "            \n",
    "            # Store the data into the variable\n",
    "            data = data['liveData']['plays']['allPlays']\n",
    "\n",
    "            def rink(i):\n",
    "                # Get the data of player\n",
    "                players = data[i]\n",
    "                # Player coordinates\n",
    "                cor = players['coordinates']\n",
    "                # If no coordinates, no information displayed\n",
    "                if cor=={}:\n",
    "                    for key, value in players.items() :\n",
    "                        print(key, ' : ', value)\n",
    "                else:\n",
    "                    # Information displayed on coordinates\n",
    "                    img = mpimg.imread(path2rink)\n",
    "                    img = plt.imshow(img, extent=[-100., 100. ,-42.5, 42.5])\n",
    "                    title = players[\"result\"][\"description\"]\n",
    "                    plt.plot(cor['x'], cor['y'], \"o\")\n",
    "                    plt.title(title, fontsize = 10, fontweight ='bold')\n",
    "                    plt.show()\n",
    "                    for key, value in players.items() :\n",
    "                        print(key, ' : ', value)\n",
    "            # Put the interactive widget for selecting the Event Id\n",
    "            widgets.interact(rink, i = widgets.IntSlider(min=0, max=len(data)-1, description=\"Event ID\"))            \n",
    "\n",
    "        # List of game id in the interactive widget\n",
    "        widgets.interact(get_game_id, game_id = widgets.Dropdown(\n",
    "            options=id_list,\n",
    "            description='Game ID:',\n",
    "            disabled=False))\n",
    "    # List of season id in the interactive widget\n",
    "    widgets.interact(get_season, season = widgets.Dropdown(\n",
    "        options=all_folders,\n",
    "        description='Season:',\n",
    "        disabled=False))\n",
    "# List of type\n",
    "widgets.interact(interactive_main, reg = widgets.Dropdown(\n",
    "    options=['regular_season', 'playoffs'],\n",
    "    description='Game Type:',\n",
    "    disabled=False))"
   ]
  },
  {
   "cell_type": "code",
   "execution_count": null,
   "id": "0f0956cd",
   "metadata": {},
   "outputs": [],
   "source": []
  }
 ],
 "metadata": {
  "kernelspec": {
   "display_name": "Python 3 (ipykernel)",
   "language": "python",
   "name": "python3"
  },
  "language_info": {
   "codemirror_mode": {
    "name": "ipython",
    "version": 3
   },
   "file_extension": ".py",
   "mimetype": "text/x-python",
   "name": "python",
   "nbconvert_exporter": "python",
   "pygments_lexer": "ipython3",
   "version": "3.9.12"
  }
 },
 "nbformat": 4,
 "nbformat_minor": 5
}
